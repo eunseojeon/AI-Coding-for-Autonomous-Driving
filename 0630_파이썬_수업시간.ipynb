{
  "nbformat": 4,
  "nbformat_minor": 0,
  "metadata": {
    "colab": {
      "provenance": [],
      "authorship_tag": "ABX9TyM7M2oyuRjfFLiSO5m5ISYl",
      "include_colab_link": true
    },
    "kernelspec": {
      "name": "python3",
      "display_name": "Python 3"
    },
    "language_info": {
      "name": "python"
    }
  },
  "cells": [
    {
      "cell_type": "markdown",
      "metadata": {
        "id": "view-in-github",
        "colab_type": "text"
      },
      "source": [
        "<a href=\"https://colab.research.google.com/github/eunseojeon/AI-Coding-for-Autonomous-Driving/blob/main/0630_%ED%8C%8C%EC%9D%B4%EC%8D%AC_%EC%88%98%EC%97%85%EC%8B%9C%EA%B0%84.ipynb\" target=\"_parent\"><img src=\"https://colab.research.google.com/assets/colab-badge.svg\" alt=\"Open In Colab\"/></a>"
      ]
    },
    {
      "cell_type": "code",
      "execution_count": null,
      "metadata": {
        "colab": {
          "base_uri": "https://localhost:8080/"
        },
        "id": "V_4EBpkkYAJc",
        "outputId": "7cc9e814-bb3b-4af4-c7f6-68148d54408d"
      },
      "outputs": [
        {
          "output_type": "stream",
          "name": "stdout",
          "text": [
            "🚗 자율주행 장애물 감지 시스템\n",
            "------------------------------\n",
            "\n",
            "🚨 감지된 장애물: ['앞', '오른쪽']\n"
          ]
        }
      ],
      "source": [
        "# 센서 데이터 (거리 측정값, 단위: 미터)\n",
        "sensors = {\n",
        "    \"앞\": 8.0,\n",
        "    \"왼쪽\": 15.0,\n",
        "    \"오른쪽\": 4.0\n",
        "}\n",
        "# 안전 거리 설정\n",
        "safe_distance = 10.0\n",
        "if __name__ == \"__main__\":\n",
        "    print(\"🚗 자율주행 장애물 감지 시스템\")\n",
        "    print(\"-\" * 30)\n",
        "\n",
        "    # 장애물 감지\n",
        "    obstacles = []\n",
        "    for direction, distance in sensors.items():\n",
        "        if distance < safe_distance:\n",
        "            obstacles.append(direction)\n",
        "\n",
        "    print(f\"\\n🚨 감지된 장애물: {obstacles}\")"
      ]
    },
    {
      "cell_type": "markdown",
      "source": [
        "##1. 함수 만들기"
      ],
      "metadata": {
        "id": "sIcz7PERpWBI"
      }
    },
    {
      "cell_type": "code",
      "source": [
        "# 센서 데이터와 안전 거리\n",
        "sensors = {\n",
        "    \"앞\": 8.0,        # 앞쪽 센서 거리(미터)\n",
        "    \"왼쪽\": 15.0,     # 왼쪽 센서 거리(미터)\n",
        "    \"오른쪽\": 4.0     # 오른쪽 센서 거리(미터)\n",
        "}\n",
        "safe_distance = 10.0  # 안전 거리(미터)\n",
        "\n",
        "# 장애물 감지 함수 정의\n",
        "def detect_obstacles(sensors, safe_distance):\n",
        "    obstacles = []  # 장애물이 감지된 방향을 담을 리스트\n",
        "    for direction, distance in sensors.items():  # 각 방향과 거리 값을 확인\n",
        "        if distance < safe_distance:             # 안전 거리보다 가까우면\n",
        "            obstacles.append(direction)          # 장애물 리스트에 방향 추가\n",
        "    return obstacles                             # 감지된 장애물 방향 리스트 반환\n",
        "\n",
        "\n",
        "if __name__ == \"__main__\":\n",
        "    print(\"🚗 자율주행 장애물 감지 시스템\")\n",
        "    print(\"-\" * 30)\n",
        "\n",
        "    # 장애물 감지 함수 사용\n",
        "    obstacles = detect_obstacles(sensors, safe_distance)\n",
        "    print(f\"\\n🚨 감지된 장애물: {obstacles}\")\n",
        "\n",
        "    # 행동 결정 (메인에서 바로 if문)\n",
        "    if len(obstacles) == 0:              # 장애물이 없으면\n",
        "        action = \"직진\"                   # 직진\n",
        "    elif \"앞\" in obstacles:              # 앞에 장애물이 있으면\n",
        "        if \"왼쪽\" not in obstacles:      # 왼쪽이 비어 있으면\n",
        "            action = \"좌회전\"             # 좌회전\n",
        "        elif \"오른쪽\" not in obstacles:  # 오른쪽이 비어 있으면\n",
        "            action = \"우회전\"             # 우회전\n",
        "        else:                            # 모든 방향에 장애물이 있으면\n",
        "            action = \"정지\"               # 정지\n",
        "    else:                                # 앞에 장애물은 없지만 옆에만 있을 때\n",
        "        action = \"주의해서 직진\"          # 주의해서 직진\n",
        "    print(f\"➡️ 결정된 행동: {action}\")\n"
      ],
      "metadata": {
        "colab": {
          "base_uri": "https://localhost:8080/"
        },
        "id": "vgLU3PBqoEwX",
        "outputId": "3ca65e0b-4280-4a07-fb2c-6af280c752b6"
      },
      "execution_count": null,
      "outputs": [
        {
          "output_type": "stream",
          "name": "stdout",
          "text": [
            "🚗 자율주행 장애물 감지 시스템\n",
            "------------------------------\n",
            "\n",
            "🚨 감지된 장애물: ['앞', '오른쪽']\n",
            "➡️ 결정된 행동: 좌회전\n"
          ]
        }
      ]
    },
    {
      "cell_type": "markdown",
      "source": [
        "##2. 메인 실행문 밑에 행동결정 if문 작성하기"
      ],
      "metadata": {
        "id": "6OWkCP9opYkD"
      }
    },
    {
      "cell_type": "code",
      "source": [
        "# 센서 데이터와 안전 거리 설정\n",
        "sensors = {\n",
        "    \"앞\": 8.0,        # 앞쪽 센서 거리(미터)\n",
        "    \"왼쪽\": 15.0,     # 왼쪽 센서 거리(미터)\n",
        "    \"오른쪽\": 4.0     # 오른쪽 센서 거리(미터)\n",
        "}\n",
        "safe_distance = 10.0  # 안전 거리(미터)\n",
        "\n",
        "# 장애물 감지 함수 정의\n",
        "def detect_obstacles(sensors, safe_distance):\n",
        "    obstacles = []  # 장애물이 감지된 방향을 저장할 리스트\n",
        "    for direction, distance in sensors.items():  # 각 방향(앞, 왼쪽, 오른쪽)과 거리값 확인\n",
        "        if distance < safe_distance:             # 만약 거리가 안전 거리보다 짧으면\n",
        "            obstacles.append(direction)          # 해당 방향을 장애물 리스트에 추가\n",
        "    return obstacles                             # 장애물이 감지된 방향 리스트 반환\n",
        "\n",
        "if __name__ == \"__main__\":\n",
        "    print(\"🚗 자율주행 장애물 감지 시스템\")\n",
        "    print(\"-\" * 30)\n",
        "\n",
        "    # 장애물 감지 함수 호출\n",
        "    obstacles = detect_obstacles(sensors, safe_distance)\n",
        "    print(f\"\\n🚨 감지된 장애물: {obstacles}\")  # 감지된 장애물 방향 출력\n",
        "\n",
        "    # 감지 결과에 따라 행동 결정\n",
        "    if len(obstacles) == 0:              # 장애물이 하나도 없으면\n",
        "        action = \"직진\"                   # 직진\n",
        "    elif \"앞\" in obstacles:              # 앞에 장애물이 있으면\n",
        "        if \"왼쪽\" not in obstacles:      # 왼쪽이 비어 있으면\n",
        "            action = \"좌회전\"             # 좌회전\n",
        "        elif \"오른쪽\" not in obstacles:  # 오른쪽이 비어 있으면\n",
        "            action = \"우회전\"             # 우회전\n",
        "        else:                            # 양쪽 모두 장애물이 있으면\n",
        "            action = \"정지\"               # 정지\n",
        "    else:                                # 앞에는 없고, 옆에만 장애물이 있을 때\n",
        "        action = \"주의해서 직진\"          # 주의해서 직진\n",
        "\n",
        "    print(f\"➡️ 결정된 행동: {action}\")   # 최종 행동 출력\n"
      ],
      "metadata": {
        "colab": {
          "base_uri": "https://localhost:8080/"
        },
        "id": "zL_uZ_WUoQWD",
        "outputId": "c7820eee-4eb3-408f-a989-cc6c690d55f8"
      },
      "execution_count": null,
      "outputs": [
        {
          "output_type": "stream",
          "name": "stdout",
          "text": [
            "🚗 자율주행 장애물 감지 시스템\n",
            "------------------------------\n",
            "\n",
            "🚨 감지된 장애물: ['앞', '오른쪽']\n",
            "➡️ 결정된 행동: 좌회전\n"
          ]
        }
      ]
    },
    {
      "cell_type": "markdown",
      "source": [
        "##3. if 문을 함수로 만들기"
      ],
      "metadata": {
        "id": "cuI8Ca-MpsTE"
      }
    },
    {
      "cell_type": "code",
      "source": [
        "\n",
        "# 센서 데이터와 안전 거리 설정\n",
        "sensors = {\n",
        "    \"앞\": 8.0,        # 앞쪽 센서 거리(미터)\n",
        "    \"왼쪽\": 15.0,     # 왼쪽 센서 거리(미터)\n",
        "    \"오른쪽\": 4.0     # 오른쪽 센서 거리(미터)\n",
        "}\n",
        "safe_distance = 10.0  # 안전 거리(미터)\n",
        "\n",
        "# 장애물 감지 함수 정의\n",
        "def detect_obstacles(sensors, safe_distance):\n",
        "    obstacles = []  # 장애물이 감지된 방향을 저장할 리스트\n",
        "    for direction, distance in sensors.items():  # 각 방향(앞, 왼쪽, 오른쪽)과 거리값을 확인\n",
        "        if distance < safe_distance:             # 만약 거리가 안전 거리보다 짧으면\n",
        "            obstacles.append(direction)          # 해당 방향을 장애물 리스트에 추가\n",
        "    return obstacles                             # 감지된 장애물 방향 리스트 반환\n",
        "\n",
        "# 행동 결정 함수 정의\n",
        "def decide_action(obstacles):\n",
        "    if len(obstacles) == 0:              # 장애물이 하나도 없으면\n",
        "        return \"직진\"                     # 직진\n",
        "    elif \"앞\" in obstacles:              # 앞에 장애물이 있으면\n",
        "        if \"왼쪽\" not in obstacles:      # 왼쪽이 비어 있으면\n",
        "            return \"좌회전\"               # 좌회전\n",
        "        elif \"오른쪽\" not in obstacles:  # 오른쪽이 비어 있으면\n",
        "            return \"우회전\"               # 우회전\n",
        "        else:                            # 양쪽 모두 장애물이 있으면\n",
        "            return \"정지\"                 # 정지\n",
        "    else:                                # 앞에는 없고, 옆에만 장애물이 있을 때\n",
        "        return \"주의해서 직진\"            # 주의해서 직진\n",
        "\n",
        "\n",
        "if __name__ == \"__main__\":\n",
        "    print(\"🚗 자율주행 장애물 감지 시스템\")\n",
        "    print(\"-\" * 30)\n",
        "\n",
        "    # 장애물 감지 함수 호출\n",
        "    obstacles = detect_obstacles(sensors, safe_distance)\n",
        "    print(f\"\\n🚨 감지된 장애물: {obstacles}\")  # 감지된 장애물 방향 출력\n",
        "\n",
        "    # 행동 결정 함수 호출\n",
        "    action = decide_action(obstacles)\n",
        "    print(f\"➡️ 결정된 행동: {action}\")         # 최종 행동 출력\n"
      ],
      "metadata": {
        "colab": {
          "base_uri": "https://localhost:8080/"
        },
        "id": "85kMs1gYohKc",
        "outputId": "a280ef74-e5c6-4746-8411-66486abc66ef"
      },
      "execution_count": null,
      "outputs": [
        {
          "output_type": "stream",
          "name": "stdout",
          "text": [
            "🚗 자율주행 장애물 감지 시스템\n",
            "------------------------------\n",
            "\n",
            "🚨 감지된 장애물: ['앞', '오른쪽']\n",
            "➡️ 결정된 행동: 좌회전\n"
          ]
        }
      ]
    },
    {
      "cell_type": "markdown",
      "source": [
        "## ✅ 교수님이 보내주신 sample코드"
      ],
      "metadata": {
        "id": "Oe1qGO9k2XvS"
      }
    },
    {
      "cell_type": "code",
      "source": [
        "# 센서 데이터 (거리 측정값, 단위: 미터)\n",
        "sensors = {\n",
        "    \"앞\": 8.0,\n",
        "    \"왼쪽\": 15.0,\n",
        "    \"오른쪽\": 4.0\n",
        "}\n",
        "# 안전 거리 설정\n",
        "safe_distance = 10.0\n",
        "def detect_obstacles(sensors, safe_distance):\n",
        "    \"\"\"장애물을 감지하는 함수\"\"\"\n",
        "    obstacles = []\n",
        "    for direction, distance in sensors.items():\n",
        "        if distance < safe_distance:\n",
        "            obstacles.append(direction)\n",
        "    return obstacles\n",
        "def decide_action(obstacles):\n",
        "    \"\"\"장애물 정보를 바탕으로 행동을 결정하는 함수\"\"\"\n",
        "    if len(obstacles) == 0:\n",
        "        action = \"직진\"\n",
        "    elif \"앞\" in obstacles:\n",
        "        if \"왼쪽\" not in obstacles:\n",
        "            action = \"좌회전\"\n",
        "        elif \"오른쪽\" not in obstacles:\n",
        "            action = \"우회전\"\n",
        "        else:\n",
        "            action = \"정지\"\n",
        "    else:\n",
        "        action = \"주의해서 직진\"\n",
        "    return action\n",
        "if __name__ == \"__main__\":\n",
        "    print(\"🚗 자율주행 장애물 감지 시스템\")\n",
        "    print(\"-\" * 30)\n",
        "\n",
        "    # 장애물 감지\n",
        "    obstacles = detect_obstacles(sensors, safe_distance)\n",
        "    print(f\"\\n🚨 감지된 장애물: {obstacles}\")\n",
        "\n",
        "    # 행동 결정\n",
        "    action = decide_action(obstacles)\n",
        "    print(f\"🎯 결정된 행동: {action}\")"
      ],
      "metadata": {
        "colab": {
          "base_uri": "https://localhost:8080/"
        },
        "id": "9Z6iuUEm2W6L",
        "outputId": "461858b3-bd17-4d6e-9fbf-6e9cf9987fec"
      },
      "execution_count": null,
      "outputs": [
        {
          "output_type": "stream",
          "name": "stdout",
          "text": [
            "🚗 자율주행 장애물 감지 시스템\n",
            "------------------------------\n",
            "\n",
            "🚨 감지된 장애물: ['앞', '오른쪽']\n",
            "🎯 결정된 행동: 좌회전\n"
          ]
        }
      ]
    }
  ]
}