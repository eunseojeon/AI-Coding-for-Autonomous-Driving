{
  "nbformat": 4,
  "nbformat_minor": 0,
  "metadata": {
    "colab": {
      "provenance": [],
      "authorship_tag": "ABX9TyPRN9wPhoJ+pifUizwV9iOL",
      "include_colab_link": true
    },
    "kernelspec": {
      "name": "python3",
      "display_name": "Python 3"
    },
    "language_info": {
      "name": "python"
    }
  },
  "cells": [
    {
      "cell_type": "markdown",
      "metadata": {
        "id": "view-in-github",
        "colab_type": "text"
      },
      "source": [
        "<a href=\"https://colab.research.google.com/github/eunseojeon/AI_Coding_for_Autonomous_Driving_Class/blob/main/0701_0702_%ED%8C%8C%EC%9D%B4%EC%8D%AC_%ED%9D%90%EB%A6%84%EB%8F%84%EB%B3%B4%EA%B3%A0%EC%BD%94%EB%93%9C%EC%9E%91%EC%84%B1.ipynb\" target=\"_parent\"><img src=\"https://colab.research.google.com/assets/colab-badge.svg\" alt=\"Open In Colab\"/></a>"
      ]
    },
    {
      "cell_type": "markdown",
      "source": [
        "## 1번. 센서값 초기화 함수"
      ],
      "metadata": {
        "id": "q-oyzaewbtTj"
      }
    },
    {
      "cell_type": "code",
      "source": [
        "def init_sensors():\n",
        "  print(\"센서 시작\")\n",
        "  sensors = {\n",
        "    \"앞\": 15.0,\n",
        "    \"왼쪽\": 15.0,\n",
        "    \"오른쪽\": 15.0\n",
        "  }\n",
        "  return sensors\n",
        "\n",
        "init_sensors()"
      ],
      "metadata": {
        "colab": {
          "base_uri": "https://localhost:8080/"
        },
        "id": "0QlvLgWYaCkS",
        "outputId": "56fa6fe1-4809-49de-ade1-7d09ada3e1fd"
      },
      "execution_count": 22,
      "outputs": [
        {
          "output_type": "stream",
          "name": "stdout",
          "text": [
            "센서 시작\n"
          ]
        },
        {
          "output_type": "execute_result",
          "data": {
            "text/plain": [
              "{'앞': 15.0, '왼쪽': 15.0, '오른쪽': 15.0}"
            ]
          },
          "metadata": {},
          "execution_count": 22
        }
      ]
    },
    {
      "cell_type": "markdown",
      "source": [
        "## 2번. 앞쪽 스캔"
      ],
      "metadata": {
        "id": "xgdwkomxe6ck"
      }
    },
    {
      "cell_type": "code",
      "source": [
        "def scan_front(x, y, obstacles, sensors):\n",
        "    print(\"2-04 앞쪽 스캔 시작\")\n",
        "\n",
        "    # 1칸 앞에 장애물 확인\n",
        "    if (x, y+1) in obstacles:\n",
        "        print(\"2-06 앞쪽 1칸 장애물 발견\")\n",
        "        sensors[\"앞\"] = 1.0 # 센서값 1.0으로 설정\n",
        "    # 2칸 앞에 장애물 확인\n",
        "    elif (x, y+2) in obstacles:\n",
        "        print(\"2-10 앞쪽 2칸 장애물 발견\")\n",
        "        sensors[\"앞\"] = 2.0 # 센서값 2.0으로 설정\n",
        "    # 3칸 앞에 장애물 확인\n",
        "    elif (x, y+3) in obstacles:\n",
        "        print(\"2-13 앞쪽 3칸 장애물 발견\")\n",
        "        sensors[\"앞\"] = 3.0 # 센서값 3.0으로 설정\n",
        "    # 1~3칸 앞에 모두 장애물이 없는 경우\n",
        "    else:\n",
        "        print(\"2-15 앞쪽 장애물 없음, 센서값 15.0 유지\")\n",
        "        sensors[\"앞\"] = 15.0 # 센서값 15.0으로 유지\n",
        "\n",
        "    print(\"2-16 앞쪽 스캔 완료\")\n",
        "\n",
        "# 예시 데이터\n",
        "x, y = 0, 0 # 현재 위치 (x, y)\n",
        "obstacles = {(0, 2), (0, 3)}  # (0,2)와 (0,3)에 장애물이 있다고 가정\n",
        "sensors = {\"앞\": 15.0, \"왼쪽\": 15.0, \"오른쪽\": 15.0} # 센서값 딕셔너리, 초기값은 모두 15.0\n",
        "\n",
        "# 함수 호출\n",
        "scan_front(x, y, obstacles, sensors)\n"
      ],
      "metadata": {
        "colab": {
          "base_uri": "https://localhost:8080/"
        },
        "id": "B_vOw1d3eir4",
        "outputId": "3823e45c-cf3c-4347-cf44-8974a1e14eec"
      },
      "execution_count": 23,
      "outputs": [
        {
          "output_type": "stream",
          "name": "stdout",
          "text": [
            "2-04 앞쪽 스캔 시작\n",
            "2-10 앞쪽 2칸 장애물 발견\n",
            "2-16 앞쪽 스캔 완료\n"
          ]
        }
      ]
    },
    {
      "cell_type": "markdown",
      "source": [
        "## 3번. 왼쪽 스캔 함수\n",
        "https://claude.ai/public/artifacts/0bd88961-bc8c-43b4-b40b-aa0a27fe96df"
      ],
      "metadata": {
        "id": "AEpu_7WRh2oC"
      }
    },
    {
      "cell_type": "code",
      "source": [
        "def scan_left(x,y,obstacles,sensors):\n",
        "  print(\"3-4 왼쪽 스캔 시작\")\n",
        "\n",
        "  #왼쪽 한 칸 앞에 장애물 확인\n",
        "  if(x-1,y) in obstacles:\n",
        "    print(\"3-7 왼쪽 1칸 장애물 발견\")\n",
        "    sensors[\"왼쪽\"]=1.0 #센서값 1.0으로 설정\n",
        "  #왼쪽 두 칸 앞에 장애물 확인\n",
        "  elif(x-2,y) in obstacles:\n",
        "    print(\"3-10 왼쪽 2칸 장애물 발견\")\n",
        "    sensors[\"왼쪽\"]=2.0 #센서값 2.0으로 설정\n",
        "  elif(x-3,y) in obstacles:\n",
        "    print(\"3-13 왼쪽 3칸 장애물 발견\")\n",
        "    sensors[\"왼쪽\"]=3.0 #센서값 3.0으로 설정\n",
        "  #1~3칸 왼쪽편에 장애물이 없는 경우\n",
        "  else:\n",
        "    print(\"3-15 왼쪽 장애물 없음 센서값 15.0 유지\")\n",
        "    sensors[\"왼쪽\"]=15.0 #센서값 15.0 유지\n",
        "\n",
        "  print(\"44 왼쪽 스캔 완료\")\n",
        "\n",
        "#예시 데이터\n",
        "x,y=0,0 #현재 위치(x,y)\n",
        "obstacles = {(-2,0), (-3,0)}  # (-2,0)와 (-3,0)에 장애물이 있다고 가정\n",
        "sensors = {\"앞\": 15.0, \"왼쪽\": 15.0, \"오른쪽\": 15.0} # 센서값 딕셔너리, 초기값은 모두 15.0\n",
        "\n",
        "# 함수 호출\n",
        "scan_left(x, y, obstacles, sensors)"
      ],
      "metadata": {
        "colab": {
          "base_uri": "https://localhost:8080/"
        },
        "id": "m1rcmxiih1Yu",
        "outputId": "40525732-f378-44a8-ccbe-3cffc6ea6672"
      },
      "execution_count": 24,
      "outputs": [
        {
          "output_type": "stream",
          "name": "stdout",
          "text": [
            "3-4 왼쪽 스캔 시작\n",
            "3-10 왼쪽 2칸 장애물 발견\n",
            "44 왼쪽 스캔 완료\n"
          ]
        }
      ]
    },
    {
      "cell_type": "markdown",
      "source": [
        "## 4번. 오른쪽 스캔으로 바꿔서 해보기"
      ],
      "metadata": {
        "id": "Mcvsr9yCmzb2"
      }
    },
    {
      "cell_type": "code",
      "source": [
        "def scan_right(x,y,obstacles,sensors):\n",
        "  print(\"4-4 오른쪽 스캔 시작\")\n",
        "\n",
        "  #오른쪽 한 칸 앞에 장애물 확인\n",
        "  if(x+1,y) in obstacles:\n",
        "    print(\"4-7 오른쪽 1칸 장애물 발견\")\n",
        "    sensors[\"오른쪽\"]=1.0 #센서값 1.0으로 설정\n",
        "  #오른쪽 두 칸 앞에 장애물 확인\n",
        "  elif(x+2,y) in obstacles:\n",
        "    print(\"4-10 오른쪽 2칸 장애물 발견\")\n",
        "    sensors[\"오른쪽\"]=2.0 #센서값 2.0으로 설정\n",
        "  elif(x+3,y) in obstacles:\n",
        "    print(\"4-13 오른쪽 3칸 장애물 발견\")\n",
        "    sensors[\"오른쪽\"]=3.0 #센서값 3.0으로 설정\n",
        "  #1~3칸 오른쪽편에 장애물이 없는 경우\n",
        "  else:\n",
        "    print(\"4-15 오른쪽 장애물 없음 센서값 15.0 유지\")\n",
        "    sensors[\"오른쪽\"]=15.0 #센서값 15.0 유지\n",
        "\n",
        "  print(\"44 오른쪽 스캔 완료\")\n",
        "\n",
        "# 함수 호출\n",
        "scan_right(x, y, obstacles, sensors)"
      ],
      "metadata": {
        "colab": {
          "base_uri": "https://localhost:8080/"
        },
        "id": "_QpJS2LQmxLH",
        "outputId": "49181fe9-f716-46d3-c2c5-910974ec85f2"
      },
      "execution_count": 25,
      "outputs": [
        {
          "output_type": "stream",
          "name": "stdout",
          "text": [
            "4-4 오른쪽 스캔 시작\n",
            "4-15 오른쪽 장애물 없음 센서값 15.0 유지\n",
            "44 오른쪽 스캔 완료\n"
          ]
        }
      ]
    },
    {
      "cell_type": "markdown",
      "source": [
        "## 5번. 센서 데이터 업데이트 함수 (디버그 print 포함) flowchart\n",
        "https://claude.ai/public/artifacts/0071fea5-0417-4ac3-b753-5e47ea108c2a"
      ],
      "metadata": {
        "id": "JisPIWmyujN-"
      }
    },
    {
      "cell_type": "code",
      "source": [
        "def init_sensors():\n",
        "    # 모든 센서값을 15.0으로 초기화\n",
        "    return {\"앞\": 15.0, \"왼쪽\": 15.0, \"오른쪽\": 15.0}\n",
        "\n",
        "def scan_front(x, y, obstacles, sensors):\n",
        "    # 앞쪽 1~3칸 장애물 확인\n",
        "    if (x, y+1) in obstacles:\n",
        "        sensors[\"앞\"] = 1.0\n",
        "    elif (x, y+2) in obstacles:\n",
        "        sensors[\"앞\"] = 2.0\n",
        "    elif (x, y+3) in obstacles:\n",
        "        sensors[\"앞\"] = 3.0\n",
        "    else:\n",
        "        sensors[\"앞\"] = 15.0\n",
        "\n",
        "def scan_left(x, y, obstacles, sensors):\n",
        "    # 왼쪽 1~3칸 장애물 확인\n",
        "    if (x-1, y) in obstacles:\n",
        "        sensors[\"왼쪽\"] = 1.0\n",
        "    elif (x-2, y) in obstacles:\n",
        "        sensors[\"왼쪽\"] = 2.0\n",
        "    elif (x-3, y) in obstacles:\n",
        "        sensors[\"왼쪽\"] = 3.0\n",
        "    else:\n",
        "        sensors[\"왼쪽\"] = 15.0\n",
        "\n",
        "def scan_right(x, y, obstacles, sensors):\n",
        "    # 오른쪽 1~3칸 장애물 확인\n",
        "    if (x+1, y) in obstacles:\n",
        "        sensors[\"오른쪽\"] = 1.0\n",
        "    elif (x+2, y) in obstacles:\n",
        "        sensors[\"오른쪽\"] = 2.0\n",
        "    elif (x+3, y) in obstacles:\n",
        "        sensors[\"오른쪽\"] = 3.0\n",
        "    else:\n",
        "        sensors[\"오른쪽\"] = 15.0\n",
        "\n",
        "def update_sensor_data(position, obstacles):\n",
        "    print(\"5-4 함수 시작\")  # 함수 시작 디버그 출력\n",
        "\n",
        "    # 위치 데이터 추출\n",
        "    x = position[\"x\"]\n",
        "    y = position[\"y\"]\n",
        "    print(\"5-6 위치 추출 완료\")\n",
        "    print(f\"5-7 현재 x, y값: {x}, {y}\")\n",
        "\n",
        "    # 센서 초기화\n",
        "    sensors = init_sensors()\n",
        "    print(\"센서 초기화: 모든 센서 15.0으로 설정\")\n",
        "\n",
        "    # 앞쪽, 왼쪽, 오른쪽 스캔\n",
        "    scan_front(x, y, obstacles, sensors)\n",
        "    scan_left(x, y, obstacles, sensors)\n",
        "    scan_right(x, y, obstacles, sensors)\n",
        "\n",
        "    print(\"5-17 센서 업데이트 완료\")\n",
        "    print(\"최종 센서 데이터:\", sensors)\n",
        "\n",
        "    return sensors\n",
        "\n",
        "# 예시 데이터 정의\n",
        "position = {\"x\": 3, \"y\": 2}\n",
        "obstacles = {(3, 3), (2, 2), (4, 2)}\n",
        "\n",
        "# 함수 호출\n",
        "update_sensor_data(position, obstacles)\n"
      ],
      "metadata": {
        "colab": {
          "base_uri": "https://localhost:8080/"
        },
        "id": "WH2iImK6Vg-I",
        "outputId": "88dffcd4-2a38-4cae-a8d4-3d9adb8a4038"
      },
      "execution_count": 26,
      "outputs": [
        {
          "output_type": "stream",
          "name": "stdout",
          "text": [
            "5-4 함수 시작\n",
            "5-6 위치 추출 완료\n",
            "5-7 현재 x, y값: 3, 2\n",
            "센서 초기화: 모든 센서 15.0으로 설정\n",
            "5-17 센서 업데이트 완료\n",
            "최종 센서 데이터: {'앞': 1.0, '왼쪽': 1.0, '오른쪽': 1.0}\n"
          ]
        },
        {
          "output_type": "execute_result",
          "data": {
            "text/plain": [
              "{'앞': 1.0, '왼쪽': 1.0, '오른쪽': 1.0}"
            ]
          },
          "metadata": {},
          "execution_count": 26
        }
      ]
    },
    {
      "cell_type": "markdown",
      "source": [
        "**def의** 역할\n",
        "\n",
        "- def를 사용하면, 어떤 기능(동작)을 묶어서 이름을 붙이고, 필요할 때마다 그 기능을 \"호출\"해서 쓸 수 있습니다.\n",
        "- 즉, 코드를 재사용하거나 복잡한 작업을 쉽게 분리할 수 있게 해줍니다.\n",
        "\n",
        "---"
      ],
      "metadata": {
        "id": "5uGCk98EzoPQ"
      }
    },
    {
      "cell_type": "markdown",
      "source": [
        "## 6번.\n",
        "https://claude.ai/public/artifacts/27051f81-4a36-4075-8d2b-ec7199d9a7fb"
      ],
      "metadata": {
        "id": "i31pQz5GyAUC"
      }
    },
    {
      "cell_type": "code",
      "source": [
        "def detect_obstacles(sensors, safe_distance):\n",
        "    # 함수 시작\n",
        "    print(\"6-4 함수 시작\")\n",
        "\n",
        "    # 입력 데이터 출력\n",
        "    print(\"6-5 입력 데이터 sensors와 safe_distance 출력\")\n",
        "    print(\"sensors:\", sensors)\n",
        "    print(\"safe_distance:\", safe_distance)\n",
        "\n",
        "    # 빈 리스트 생성\n",
        "    obstacles = []\n",
        "\n",
        "    # 반복문 시작\n",
        "    for direction, distance in sensors.items():\n",
        "        # 현재 방향과 거리 체크\n",
        "        print(\"6-9 현재 방향과 거리 체크:\", direction, distance)\n",
        "\n",
        "        # 위험 판단\n",
        "        if distance < safe_distance:\n",
        "            # 위험 (거리 < 안전거리)\n",
        "            obstacles.append(direction)\n",
        "            print(\"6-12 위험! 목록에 추가:\", direction)\n",
        "        else:\n",
        "            # 안전 (거리 >= 안전거리)\n",
        "            print(\"6-14 안전:\", direction)\n",
        "\n",
        "    # 장애물 검지 완료\n",
        "    print(\"6-16 장애물 검지 완료, 최종 obstacles 리스트 출력\")\n",
        "    print(\"obstacles:\", obstacles)\n",
        "\n",
        "    # 반환\n",
        "    return obstacles\n",
        "\n",
        "# 예시 데이터\n",
        "sensors = {\n",
        "    \"앞\": 12.0,\n",
        "    \"왼쪽\": 15.0,\n",
        "    \"오른쪽\": 8.0\n",
        "}\n",
        "safe_distance = 10.0\n",
        "\n",
        "# 함수 호출\n",
        "detected = detect_obstacles(sensors, safe_distance)\n",
        "print(\"감지된 장애물:\", detected)\n"
      ],
      "metadata": {
        "colab": {
          "base_uri": "https://localhost:8080/"
        },
        "id": "0ux1xeM9VuZs",
        "outputId": "e8b629d2-409f-4864-cc0d-b17fa052888a"
      },
      "execution_count": 27,
      "outputs": [
        {
          "output_type": "stream",
          "name": "stdout",
          "text": [
            "6-4 함수 시작\n",
            "6-5 입력 데이터 sensors와 safe_distance 출력\n",
            "sensors: {'앞': 12.0, '왼쪽': 15.0, '오른쪽': 8.0}\n",
            "safe_distance: 10.0\n",
            "6-9 현재 방향과 거리 체크: 앞 12.0\n",
            "6-14 안전: 앞\n",
            "6-9 현재 방향과 거리 체크: 왼쪽 15.0\n",
            "6-14 안전: 왼쪽\n",
            "6-9 현재 방향과 거리 체크: 오른쪽 8.0\n",
            "6-12 위험! 목록에 추가: 오른쪽\n",
            "6-16 장애물 검지 완료, 최종 obstacles 리스트 출력\n",
            "obstacles: ['오른쪽']\n",
            "감지된 장애물: ['오른쪽']\n"
          ]
        }
      ]
    },
    {
      "cell_type": "markdown",
      "source": [
        "## 7번\n",
        " https://claude.ai/public/artifacts/13112488-2160-4216-8845-4187a58f746c"
      ],
      "metadata": {
        "id": "bTmo7ofdyC3J"
      }
    },
    {
      "cell_type": "code",
      "source": [
        "def decide_action(obstacles):\n",
        "    # def: 'define'의 약자, 함수를 정의할 때 사용\n",
        "    # 장애물 정보는 [\"앞\", \"왼쪽\", \"오른쪽\"] 중 일부가 포함된 리스트로 가정\n",
        "    # 예시: obstacles = [\"앞\", \"왼쪽\"]\n",
        "\n",
        "  # 장애물 개수가 0개인가?\n",
        "  if len(obstacles)==0:   # len(): 리스트의 길이(요소 개수)를 구하는 함수\n",
        "    print(\"출력:장애물 없음\")\n",
        "    return \"직진\"\n",
        "\n",
        "  # 앞에 장애물이 있는가?\n",
        "  if \"앞\" in obstacles:  # \"앞\"이라는 값이 obstacles 리스트에 포함되어 있는지 확인\n",
        "    print(\"출력:앞에 장애물 있음, 좌우 확인\")\n",
        "\n",
        "    if \"왼쪽\" not in obstacles: #왼쪽에 장애물 여부 확인\n",
        "      print(\"출력: 왼쪽 안전\")\n",
        "      return \"좌회전\"\n",
        "    elif \"오른쪽\" not in obstacles: #오른쪽에 장애물 여부 확인\n",
        "      print(\"출력: 오른쪽 안전\")\n",
        "      return \"우회전\"\n",
        "    else:\n",
        "      print(\"출력: 모든 방향 위험\") #좌우 모두에 장애물이 있을 때\n",
        "      return \"정지\"\n",
        "\n",
        "  else:\n",
        "    print(\"출력:앞은 안전, 옆만 위험\")  # 앞에 장애물이 없을 때\n",
        "    return \"주의해서 직진\"\n",
        "\n",
        "print(decide_action([\"앞\"]))          # 앞에 장애물 있음"
      ],
      "metadata": {
        "id": "Y9H2JZWNyGQ_",
        "colab": {
          "base_uri": "https://localhost:8080/"
        },
        "outputId": "7d9bb630-c5d7-4061-8658-2435cfc50a3b"
      },
      "execution_count": 28,
      "outputs": [
        {
          "output_type": "stream",
          "name": "stdout",
          "text": [
            "출력:앞에 장애물 있음, 좌우 확인\n",
            "출력: 왼쪽 안전\n",
            "좌회전\n"
          ]
        }
      ]
    },
    {
      "cell_type": "markdown",
      "source": [
        "- in / not in: 리스트에 특정 값이 포함되어 있는지(in), 포함되어 있지 않은지(not in)를 확인할 때 사용\n",
        "---"
      ],
      "metadata": {
        "id": "7wDfpjL3i2aq"
      }
    },
    {
      "cell_type": "markdown",
      "source": [
        "## 8번.\n",
        "https://claude.ai/public/artifacts/6ddac9ec-2dba-456b-bb09-bf6e277a8a06"
      ],
      "metadata": {
        "id": "gI6jFRUAzVch"
      }
    },
    {
      "cell_type": "code",
      "source": [
        "class SimpleCar:\n",
        "    def __init__(self, name, x, y):\n",
        "        # 생성자: 이름, 시작 위치(x, y), 안전거리 설정\n",
        "        self.name = name\n",
        "        self.position = {\"x\": x, \"y\": y}\n",
        "        self.safe_distance = 10.0\n",
        "\n",
        "    def move_forward(self):\n",
        "        # 전진: y 좌표 1 증가\n",
        "        self.position[\"y\"] += 1\n",
        "        print(f\"전진: 현재 위치 {self.position}\")\n",
        "\n",
        "    def turn_left(self):\n",
        "        # 좌회전: x 좌표 1 감소\n",
        "        self.position[\"x\"] -= 1\n",
        "        print(f\"좌회전: 현재 위치 {self.position}\")\n",
        "\n",
        "    def turn_right(self):\n",
        "        # 우회전: x 좌표 1 증가\n",
        "        self.position[\"x\"] += 1\n",
        "        print(f\"우회전: 현재 위치 {self.position}\")\n",
        "\n",
        "    def stop(self):\n",
        "        # 정지: 현재 위치 유지\n",
        "        print(f\"정지: 현재 위치 {self.position}\")\n",
        "\n",
        "    def execute_action(self, action):\n",
        "        # 행동 실행 총괄: 문자열 action에 따라 실제 행동 호출\n",
        "        print(f\"행동 실행: {action}\")\n",
        "        if action == \"직진\":\n",
        "            self.move_forward()\n",
        "        elif action == \"좌회전\":\n",
        "            self.turn_left()\n",
        "        elif action == \"우회전\":\n",
        "            self.turn_right()\n",
        "        elif action == \"정지\":\n",
        "            self.stop()\n",
        "        else:\n",
        "            print(\"알 수 없는 행동입니다.\")\n",
        "\n",
        "    def update_sensor_data(self, obstacles):\n",
        "        # 센서 데이터 수집: 현재 위치와 장애물 리스트를 받아 센서 값 계산\n",
        "        x = self.position[\"x\"]\n",
        "        y = self.position[\"y\"]\n",
        "\n",
        "        sensors = {\"앞\": 15.0, \"왼쪽\": 15.0, \"오른쪽\": 15.0}\n",
        "\n",
        "        # 앞쪽 1~3칸 장애물 확인\n",
        "        for dist in range(1, 4):\n",
        "            if (x, y + dist) in obstacles:\n",
        "                sensors[\"앞\"] = float(dist)\n",
        "                break\n",
        "\n",
        "        # 왼쪽 1~3칸 장애물 확인\n",
        "        for dist in range(1, 4):\n",
        "            if (x - dist, y) in obstacles:\n",
        "                sensors[\"왼쪽\"] = float(dist)\n",
        "                break\n",
        "\n",
        "        # 오른쪽 1~3칸 장애물 확인\n",
        "        for dist in range(1, 4):\n",
        "            if (x + dist, y) in obstacles:\n",
        "                sensors[\"오른쪽\"] = float(dist)\n",
        "                break\n",
        "\n",
        "        print(f\"센서 데이터: {sensors}\")\n",
        "        return sensors\n",
        "\n",
        "    def detect_obstacles(self, sensors):\n",
        "        # 위험 장애물 감지: 센서 데이터와 안전거리 비교\n",
        "        obstacles = []\n",
        "        for direction, distance in sensors.items():\n",
        "            if distance < self.safe_distance:\n",
        "                obstacles.append(direction)\n",
        "        print(f\"감지된 장애물: {obstacles}\")\n",
        "        return obstacles\n",
        "\n",
        "    def decide_action(self, obstacles):\n",
        "        # 행동 결정: 장애물 위치에 따라 행동 결정\n",
        "        if len(obstacles) == 0:\n",
        "            return \"직진\"\n",
        "        elif \"앞\" in obstacles:\n",
        "            if \"왼쪽\" not in obstacles:\n",
        "                return \"좌회전\"\n",
        "            elif \"오른쪽\" not in obstacles:\n",
        "                return \"우회전\"\n",
        "            else:\n",
        "                return \"정지\"\n",
        "        else:\n",
        "            # 앞에 장애물이 없고, 좌우 장애물만 있을 때\n",
        "            if \"왼쪽\" in obstacles:\n",
        "                return \"우회전\"\n",
        "            elif \"오른쪽\" in obstacles:\n",
        "                return \"좌회전\"\n",
        "            else:\n",
        "                return \"직진\"\n",
        "\n",
        "    def run_simulation(self, obstacles):\n",
        "        print(f\"{self.name} 자율주행 시뮬레이션 시작\")\n",
        "        step = 0\n",
        "        max_steps = 10\n",
        "\n",
        "        while step < max_steps:\n",
        "            print(f\"\\n[스텝 {step + 1}] 현재 위치: {self.position}\")\n",
        "\n",
        "            # 센서 데이터 업데이트\n",
        "            sensors = self.update_sensor_data(obstacles)\n",
        "\n",
        "            # 장애물 감지\n",
        "            detected_obstacles = self.detect_obstacles(sensors)\n",
        "\n",
        "            # 행동 결정\n",
        "            action = self.decide_action(detected_obstacles)\n",
        "\n",
        "            # 행동 실행\n",
        "            self.execute_action(action)\n",
        "\n",
        "            # 정지 조건 확인\n",
        "            if action == \"정지\":\n",
        "                print(\"시뮬레이션 종료: 정지 조건 충족\")\n",
        "                break\n",
        "\n",
        "            step += 1\n",
        "\n",
        "        if step == max_steps:\n",
        "            print(\"시뮬레이션 종료: 최대 스텝 도달\")\n",
        "\n",
        "\n",
        "# 시뮬레이션 실행 예시\n",
        "if __name__ == \"__main__\":\n",
        "    # 자동차 객체 생성\n",
        "    car = SimpleCar(\"SimpleCar\", 3, 0)\n",
        "\n",
        "    # 장애물 좌표 집합 (튜플)\n",
        "    obstacles = {(3, 2), (3, 3), (2, 4), (4, 5)}\n",
        "\n",
        "    # 시뮬레이션 실행\n",
        "    car.run_simulation(obstacles)\n"
      ],
      "metadata": {
        "colab": {
          "base_uri": "https://localhost:8080/"
        },
        "id": "zm-RhoXQV82N",
        "outputId": "b4e73630-9a5d-4d93-861e-5b0434590b6a"
      },
      "execution_count": 29,
      "outputs": [
        {
          "output_type": "stream",
          "name": "stdout",
          "text": [
            "SimpleCar 자율주행 시뮬레이션 시작\n",
            "\n",
            "[스텝 1] 현재 위치: {'x': 3, 'y': 0}\n",
            "센서 데이터: {'앞': 2.0, '왼쪽': 15.0, '오른쪽': 15.0}\n",
            "감지된 장애물: ['앞']\n",
            "행동 실행: 좌회전\n",
            "좌회전: 현재 위치 {'x': 2, 'y': 0}\n",
            "\n",
            "[스텝 2] 현재 위치: {'x': 2, 'y': 0}\n",
            "센서 데이터: {'앞': 15.0, '왼쪽': 15.0, '오른쪽': 15.0}\n",
            "감지된 장애물: []\n",
            "행동 실행: 직진\n",
            "전진: 현재 위치 {'x': 2, 'y': 1}\n",
            "\n",
            "[스텝 3] 현재 위치: {'x': 2, 'y': 1}\n",
            "센서 데이터: {'앞': 3.0, '왼쪽': 15.0, '오른쪽': 15.0}\n",
            "감지된 장애물: ['앞']\n",
            "행동 실행: 좌회전\n",
            "좌회전: 현재 위치 {'x': 1, 'y': 1}\n",
            "\n",
            "[스텝 4] 현재 위치: {'x': 1, 'y': 1}\n",
            "센서 데이터: {'앞': 15.0, '왼쪽': 15.0, '오른쪽': 15.0}\n",
            "감지된 장애물: []\n",
            "행동 실행: 직진\n",
            "전진: 현재 위치 {'x': 1, 'y': 2}\n",
            "\n",
            "[스텝 5] 현재 위치: {'x': 1, 'y': 2}\n",
            "센서 데이터: {'앞': 15.0, '왼쪽': 15.0, '오른쪽': 2.0}\n",
            "감지된 장애물: ['오른쪽']\n",
            "행동 실행: 좌회전\n",
            "좌회전: 현재 위치 {'x': 0, 'y': 2}\n",
            "\n",
            "[스텝 6] 현재 위치: {'x': 0, 'y': 2}\n",
            "센서 데이터: {'앞': 15.0, '왼쪽': 15.0, '오른쪽': 3.0}\n",
            "감지된 장애물: ['오른쪽']\n",
            "행동 실행: 좌회전\n",
            "좌회전: 현재 위치 {'x': -1, 'y': 2}\n",
            "\n",
            "[스텝 7] 현재 위치: {'x': -1, 'y': 2}\n",
            "센서 데이터: {'앞': 15.0, '왼쪽': 15.0, '오른쪽': 15.0}\n",
            "감지된 장애물: []\n",
            "행동 실행: 직진\n",
            "전진: 현재 위치 {'x': -1, 'y': 3}\n",
            "\n",
            "[스텝 8] 현재 위치: {'x': -1, 'y': 3}\n",
            "센서 데이터: {'앞': 15.0, '왼쪽': 15.0, '오른쪽': 15.0}\n",
            "감지된 장애물: []\n",
            "행동 실행: 직진\n",
            "전진: 현재 위치 {'x': -1, 'y': 4}\n",
            "\n",
            "[스텝 9] 현재 위치: {'x': -1, 'y': 4}\n",
            "센서 데이터: {'앞': 15.0, '왼쪽': 15.0, '오른쪽': 3.0}\n",
            "감지된 장애물: ['오른쪽']\n",
            "행동 실행: 좌회전\n",
            "좌회전: 현재 위치 {'x': -2, 'y': 4}\n",
            "\n",
            "[스텝 10] 현재 위치: {'x': -2, 'y': 4}\n",
            "센서 데이터: {'앞': 15.0, '왼쪽': 15.0, '오른쪽': 15.0}\n",
            "감지된 장애물: []\n",
            "행동 실행: 직진\n",
            "전진: 현재 위치 {'x': -2, 'y': 5}\n",
            "시뮬레이션 종료: 최대 스텝 도달\n"
          ]
        }
      ]
    },
    {
      "cell_type": "markdown",
      "source": [
        "## 9번.\n",
        "https://claude.ai/public/artifacts/76eafd8d-4d90-437d-be19-5bf67c275500"
      ],
      "metadata": {
        "id": "X9h__47n0lRF"
      }
    },
    {
      "cell_type": "code",
      "source": [
        "# 프로그램 시작\n",
        "if __name__ == '__main__':\n",
        "    # 디버그 출력\n",
        "    print(\"9-3 메인 실행 시작\")\n",
        "\n",
        "    # 디버그 출력\n",
        "    print(\"9-6 자동차 생성\")\n",
        "\n",
        "    # 자동차 객체 생성\n",
        "    class SimpleCar:\n",
        "        def __init__(self, name, x, y):\n",
        "            self.name = name\n",
        "            self.position = (x, y)\n",
        "\n",
        "        def run_simulation(self, obstacles):\n",
        "            print(f\"{self.name} 자율주행 시작! 현재 위치: {self.position}\")\n",
        "            # 예시: 장애물 리스트 출력\n",
        "            print(\"장애물 좌표:\", obstacles)\n",
        "            # 실제 자율주행 로직은 여기에 구현\n",
        "            print(\"자율주행 시뮬레이션 종료\")\n",
        "\n",
        "    car = SimpleCar('현대차', 3, 0)\n",
        "    print(f\"이름: {car.name}, 시작위치: {car.position}\")\n",
        "\n",
        "    # 디버그 출력\n",
        "    print(\"9-10 장애물 설정\")\n",
        "\n",
        "    # 장애물 맵 생성\n",
        "    obstacles = {(3, 2), (3, 3), (2, 4), (4, 5)}\n",
        "    print(\"4개의 장애물 좌표 설정\")\n",
        "\n",
        "    # 디버그 출력\n",
        "    print(\"9-12 장애물 설정 완료\")\n",
        "    print(\"장애물 리스트:\", obstacles)\n",
        "\n",
        "    # 디버그 출력\n",
        "    print(\"9-15 시뮬레이션 호출\")\n",
        "\n",
        "    # 시뮬레이션 실행\n",
        "    print(\"시뮬레이션 실행\")\n",
        "    car.run_simulation(obstacles)\n",
        "\n",
        "    # 디버그 출력\n",
        "    print(\"9-18 프로그램 종료\")\n",
        "\n",
        "# 프로그램 완전 종료\n"
      ],
      "metadata": {
        "colab": {
          "base_uri": "https://localhost:8080/"
        },
        "id": "3ATfUHxPU-W7",
        "outputId": "5e06db87-e9e3-4821-d3fb-53a8375eea31"
      },
      "execution_count": 30,
      "outputs": [
        {
          "output_type": "stream",
          "name": "stdout",
          "text": [
            "9-3 메인 실행 시작\n",
            "9-6 자동차 생성\n",
            "이름: 현대차, 시작위치: (3, 0)\n",
            "9-10 장애물 설정\n",
            "4개의 장애물 좌표 설정\n",
            "9-12 장애물 설정 완료\n",
            "장애물 리스트: {(4, 5), (3, 3), (3, 2), (2, 4)}\n",
            "9-15 시뮬레이션 호출\n",
            "시뮬레이션 실행\n",
            "현대차 자율주행 시작! 현재 위치: (3, 0)\n",
            "장애물 좌표: {(4, 5), (3, 3), (3, 2), (2, 4)}\n",
            "자율주행 시뮬레이션 종료\n",
            "9-18 프로그램 종료\n"
          ]
        }
      ]
    }
  ]
}