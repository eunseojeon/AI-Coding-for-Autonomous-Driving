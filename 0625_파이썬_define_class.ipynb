{
  "nbformat": 4,
  "nbformat_minor": 0,
  "metadata": {
    "colab": {
      "provenance": [],
      "authorship_tag": "ABX9TyOW22m0L+mrYDrWhGrIp7Dh",
      "include_colab_link": true
    },
    "kernelspec": {
      "name": "python3",
      "display_name": "Python 3"
    },
    "language_info": {
      "name": "python"
    }
  },
  "cells": [
    {
      "cell_type": "markdown",
      "metadata": {
        "id": "view-in-github",
        "colab_type": "text"
      },
      "source": [
        "<a href=\"https://colab.research.google.com/github/eunseojeon/AI-Coding-for-Autonomous-Driving/blob/main/0625_%ED%8C%8C%EC%9D%B4%EC%8D%AC_define_class.ipynb\" target=\"_parent\"><img src=\"https://colab.research.google.com/assets/colab-badge.svg\" alt=\"Open In Colab\"/></a>"
      ]
    },
    {
      "cell_type": "markdown",
      "source": [
        "✅ class연습"
      ],
      "metadata": {
        "id": "vhPaNXHKmjWC"
      }
    },
    {
      "cell_type": "code",
      "source": [
        "class Person:\n",
        "  def __init__(self, name, age):\n",
        "    self.name = name\n",
        "    self.age = age\n",
        "\n",
        "  def myfunc(self):\n",
        "    print(\"Hello my name is \" + self.name)\n",
        "\n",
        "p1 = Person(\"John\", 36)\n",
        "p1.myfunc()"
      ],
      "metadata": {
        "colab": {
          "base_uri": "https://localhost:8080/"
        },
        "id": "pGs6VlAmis3y",
        "outputId": "208d13b4-cf59-4b55-930c-95922b8fd537"
      },
      "execution_count": null,
      "outputs": [
        {
          "output_type": "stream",
          "name": "stdout",
          "text": [
            "Hello my name is John\n"
          ]
        }
      ]
    },
    {
      "cell_type": "markdown",
      "source": [
        "__init__은 객체가 만들어질 때 자동으로 실행. self는 그 객체 자신을 가리킨다는 것!\n",
        "\n"
      ],
      "metadata": {
        "id": "iCkn7y1ItoVV"
      }
    },
    {
      "cell_type": "code",
      "source": [
        "class Person:\n",
        "  def __init__(mysillyobject, name, age):\n",
        "    mysillyobject.name = name\n",
        "    mysillyobject.age = age\n",
        "\n",
        "  def myfunc(abc):\n",
        "    print(\"Hello my name is \" + abc.name)\n",
        "\n",
        "p1 = Person(\"John\", 36)\n",
        "p1.myfunc()"
      ],
      "metadata": {
        "colab": {
          "base_uri": "https://localhost:8080/"
        },
        "id": "Lwemlb9TkkB2",
        "outputId": "4998aa11-f779-4652-c255-9d8596fd3ae8"
      },
      "execution_count": null,
      "outputs": [
        {
          "output_type": "stream",
          "name": "stdout",
          "text": [
            "Hello my name is John\n"
          ]
        }
      ]
    },
    {
      "cell_type": "markdown",
      "source": [],
      "metadata": {
        "id": "2y2aoHi4tytn"
      }
    },
    {
      "cell_type": "code",
      "source": [
        "class Person:\n",
        "  def __init__(self, name, age):\n",
        "    self.name = name\n",
        "    self.age = age\n",
        "\n",
        "  def __str__(self):\n",
        "    return f\"{self.name}({self.age})\"\n",
        "\n",
        "p1 = Person(\"John\", 36)\n",
        "\n",
        "print(p1)"
      ],
      "metadata": {
        "colab": {
          "base_uri": "https://localhost:8080/"
        },
        "id": "vz2WiPDYko31",
        "outputId": "c842dca2-de39-4ba7-f0fe-8144e71aef15"
      },
      "execution_count": null,
      "outputs": [
        {
          "output_type": "stream",
          "name": "stdout",
          "text": [
            "John(36)\n"
          ]
        }
      ]
    },
    {
      "cell_type": "markdown",
      "source": [
        "__str__은 print(p1)처럼 객체를 출력할 때 문자열로 변환해서 보여주는 역할"
      ],
      "metadata": {
        "id": "3q4lP5kMuC0g"
      }
    },
    {
      "cell_type": "code",
      "source": [
        "class Person:\n",
        "  def __init__(self, name, age):\n",
        "    self.name = name\n",
        "    self.age = age\n",
        "\n",
        "p1 = Person(\"John\", 36)\n",
        "\n",
        "print(p1)"
      ],
      "metadata": {
        "colab": {
          "base_uri": "https://localhost:8080/"
        },
        "id": "H37Wt7wPk3Ic",
        "outputId": "dfb0fd36-aea5-432f-81ae-528a75aae5d4"
      },
      "execution_count": null,
      "outputs": [
        {
          "output_type": "stream",
          "name": "stdout",
          "text": [
            "<__main__.Person object at 0x77fe1601f4d0>\n"
          ]
        }
      ]
    },
    {
      "cell_type": "markdown",
      "source": [
        "Person 클래스에 __str__ 같은 출력용 함수가 없어서,\n",
        "print(p1) 하면 객체의 메모리 주소 같은 기본 정보가 출력"
      ],
      "metadata": {
        "id": "2RQHyGTDuJ81"
      }
    },
    {
      "cell_type": "code",
      "source": [
        "class Person:\n",
        "    def __init__(self, name):\n",
        "        self.name = name\n",
        "\n",
        "    def say_hello(self):\n",
        "        return \"안녕! 나는 \" + self.name\n",
        "\n",
        "p = Person(\"은서\")\n",
        "print(p.say_hello())\n"
      ],
      "metadata": {
        "colab": {
          "base_uri": "https://localhost:8080/"
        },
        "id": "wyyaHAYCrTMK",
        "outputId": "19c69c18-66cf-4b30-b70b-a9e32d19cc67"
      },
      "execution_count": null,
      "outputs": [
        {
          "output_type": "stream",
          "name": "stdout",
          "text": [
            "안녕! 나는 은서\n"
          ]
        }
      ]
    },
    {
      "cell_type": "code",
      "source": [
        "def say_hello(name):\n",
        "    return \"안녕! \" + name\n",
        "\n",
        "print(say_hello(\"은서\"))\n"
      ],
      "metadata": {
        "colab": {
          "base_uri": "https://localhost:8080/"
        },
        "id": "CofEAg1Kra6J",
        "outputId": "44eb1929-d2fc-41d6-828a-bb7daaca4856"
      },
      "execution_count": null,
      "outputs": [
        {
          "output_type": "stream",
          "name": "stdout",
          "text": [
            "안녕! 은서\n"
          ]
        }
      ]
    },
    {
      "cell_type": "markdown",
      "source": [
        "✅ 1. 차선이탈 감지"
      ],
      "metadata": {
        "id": "pBnjr7RUl-mL"
      }
    },
    {
      "cell_type": "code",
      "source": [
        "class LaneChecker:\n",
        "    def __init__(self):\n",
        "        self.lane_offset = -0.4  # 음수: 왼쪽으로 이탈\n",
        "\n",
        "    def decide_action(self):\n",
        "        if self.lane_offset < -0.3:\n",
        "            return \"왼쪽 차선 이탈 → 오른쪽으로 조향\"\n",
        "        elif self.lane_offset > 0.3:\n",
        "            return \"오른쪽 차선 이탈 → 왼쪽으로 조향\"\n",
        "        else:\n",
        "            return \"차선 중심 유지 중\"\n",
        "\n",
        "car = LaneChecker()\n",
        "print(car.decide_action())\n"
      ],
      "metadata": {
        "colab": {
          "base_uri": "https://localhost:8080/"
        },
        "id": "PlobmzXPl4fP",
        "outputId": "8d74c501-a769-400e-f3ab-08633a591d71"
      },
      "execution_count": null,
      "outputs": [
        {
          "output_type": "stream",
          "name": "stdout",
          "text": [
            "왼쪽 차선 이탈 → 오른쪽으로 조향\n"
          ]
        }
      ]
    },
    {
      "cell_type": "markdown",
      "source": [
        "이 코드는 LaneChecker라는 클래스로,\n",
        "\n",
        "- lane_offset이라는 차선 중심에서 얼마나 벗어났는지(음수면 왼쪽, 양수면 오른쪽) 정보를 저장\n",
        "- decide_action 메서드가 그 값을 보고 차선 이탈 시 어떤 방향으로 핸들을 조향할지 판단해서 문자열로 반환"
      ],
      "metadata": {
        "id": "XV5n-QYXuYnX"
      }
    },
    {
      "cell_type": "markdown",
      "source": [
        "✅ 2. 차선 인식 실패 상황"
      ],
      "metadata": {
        "id": "-9rMy9x1mI_A"
      }
    },
    {
      "cell_type": "code",
      "source": [
        "class LaneDetector:\n",
        "    def __init__(self):\n",
        "        self.lane_detected = False\n",
        "\n",
        "    def decide_action(self):\n",
        "        return \"차선 인식 실패 → 속도 줄이기\" if not self.lane_detected else \"차선 정상 인식\"\n",
        "\n",
        "car = LaneDetector()\n",
        "print(car.decide_action())\n"
      ],
      "metadata": {
        "colab": {
          "base_uri": "https://localhost:8080/"
        },
        "id": "R-51fVmcmGer",
        "outputId": "35b7d1fb-621b-4ca6-9d45-6dc1b366fd18"
      },
      "execution_count": null,
      "outputs": [
        {
          "output_type": "stream",
          "name": "stdout",
          "text": [
            "차선 인식 실패 → 속도 줄이기\n"
          ]
        }
      ]
    },
    {
      "cell_type": "markdown",
      "source": [
        "이 코드는 LaneDetector라는 클래스\n",
        "\n",
        "- lane_detected라는 속성으로 **차선 인식 여부(True/False)**를 저장\n",
        "- decide_action() 메서드는 차선을 못 인식했으면 \"차선 인식 실패 → 속도 줄이기\", 인식했으면 \"차선 정상 인식\"을 반환"
      ],
      "metadata": {
        "id": "uw9jRRjfufwj"
      }
    },
    {
      "cell_type": "markdown",
      "source": [
        "✅ 3. 전방 차량 회피 판단"
      ],
      "metadata": {
        "id": "EaIQOIGImNTz"
      }
    },
    {
      "cell_type": "code",
      "source": [
        "class ObstacleAvoider:\n",
        "    def __init__(self):\n",
        "        self.front_distance = 8\n",
        "        self.vehicle_in_lane = False\n",
        "\n",
        "    def decide_action(self):\n",
        "        if self.front_distance < 10:\n",
        "            return \"장애물 가까움 → 차선 변경 시도\"\n",
        "        else:\n",
        "            return \"충분한 거리 → 주행 유지\"\n",
        "\n",
        "car = ObstacleAvoider()\n",
        "print(car.decide_action())\n"
      ],
      "metadata": {
        "colab": {
          "base_uri": "https://localhost:8080/"
        },
        "id": "4RwsG_f0mGYr",
        "outputId": "d916d88a-4511-434f-a317-73f3d9c1d88e"
      },
      "execution_count": null,
      "outputs": [
        {
          "output_type": "stream",
          "name": "stdout",
          "text": [
            "장애물 가까움 → 차선 변경 시도\n"
          ]
        }
      ]
    },
    {
      "cell_type": "markdown",
      "source": [
        "이 코드는 ObstacleAvoider라는 클래스\n",
        "\n",
        "- front_distance는 전방 장애물과의 거리(여기선 8m)를 나타내고,\n",
        "- vehicle_in_lane은 같은 차선에 차량이 있는지 여부(여기선 False)\n",
        "- decide_action 메서드는 전방 장애물이 10m보다 가까우면 \"장애물 가까움 → 차선 변경 시도\"를 반환하고, 그렇지 않으면 \"충분한 거리 → 주행 유지\"를 반환"
      ],
      "metadata": {
        "id": "BK6n-0B0uwHU"
      }
    },
    {
      "cell_type": "markdown",
      "source": [
        "✅ 4. 정지선 감지 시 멈추기"
      ],
      "metadata": {
        "id": "ODOiBh3VmcHx"
      }
    },
    {
      "cell_type": "code",
      "source": [
        "class StopLineDetector:\n",
        "    def __init__(self):\n",
        "        self.stop_line_detected = True\n",
        "\n",
        "    def decide_action(self):\n",
        "        return \"정지선 감지 → 정지\" if self.stop_line_detected else \"정지선 없음 → 주행\"\n",
        "\n",
        "car = StopLineDetector()\n",
        "print(car.decide_action())\n"
      ],
      "metadata": {
        "colab": {
          "base_uri": "https://localhost:8080/"
        },
        "id": "waKmFdgdmfx3",
        "outputId": "7c083f8e-af79-434d-b838-74f3b55efd61"
      },
      "execution_count": null,
      "outputs": [
        {
          "output_type": "stream",
          "name": "stdout",
          "text": [
            "정지선 감지 → 정지\n"
          ]
        }
      ]
    },
    {
      "cell_type": "markdown",
      "source": [
        "이 코드는 StopLineDetector라는 클래스\n",
        "\n",
        "- stop_line_detected라는 속성으로 **정지선 감지 여부(True/False)**를 저장하고,\n",
        "- decide_action 메서드는 정지선이 감지되면 \"정지선 감지 → 정지\", 아니면 \"정지선 없음 → 주행\"을 반환"
      ],
      "metadata": {
        "id": "bp7qd0nWvDkK"
      }
    },
    {
      "cell_type": "markdown",
      "source": [
        "✅ 5. 전방 장애물 및 차선 인식을 통한 자율주행 판단"
      ],
      "metadata": {
        "id": "DWxn14-_m0kC"
      }
    },
    {
      "cell_type": "code",
      "source": [
        "class AutonomousCar:\n",
        "    def __init__(self):\n",
        "        self.lane_detected = True\n",
        "        self.front_distance = 12\n",
        "\n",
        "    def decide_action(self):\n",
        "        if not self.lane_detected:\n",
        "            return \"차선을 놓침 → 감속\"\n",
        "        if self.front_distance < 10:\n",
        "            return \"장애물 가까움 → 급제동\"\n",
        "        elif self.front_distance < 30:\n",
        "            return \"장애물 있음 → 감속\"\n",
        "        else:\n",
        "            return \"도로 이상 없음 → 유지 주행\"\n",
        "\n",
        "# 실행\n",
        "car = AutonomousCar()\n",
        "print(car.decide_action())\n"
      ],
      "metadata": {
        "colab": {
          "base_uri": "https://localhost:8080/"
        },
        "id": "LdMFZfvWlvlN",
        "outputId": "af94e103-7e58-4ca0-ed39-98d892d73ef7"
      },
      "execution_count": null,
      "outputs": [
        {
          "output_type": "stream",
          "name": "stdout",
          "text": [
            "장애물 있음 → 감속\n"
          ]
        }
      ]
    },
    {
      "cell_type": "markdown",
      "source": [
        "이 코드는 AutonomousCar라는 클래스\n",
        "- lane_detected로 차선 인식 여부를 저장하고,\n",
        "- front_distance로 전방 장애물과의 거리를 나타낸다\n",
        "\n",
        "decide_action 메서드는\n",
        "- 차선을 못 찾으면 감속,\n",
        "- 10m 이하면 급제동,\n",
        "- 10~30m 사이면 감속,\n",
        "- 30m 이상이면 정상 주행을 결정해서 문자열로 알려줌"
      ],
      "metadata": {
        "id": "6mY-dsKVvKyP"
      }
    },
    {
      "cell_type": "markdown",
      "source": [
        "❗️1. 차선 인식 여부 판단"
      ],
      "metadata": {
        "id": "cOjzX8HRnETa"
      }
    },
    {
      "cell_type": "code",
      "source": [
        "def check_lane(detected):\n",
        "    if detected:\n",
        "        return \"차선 인식됨 → 주행 계속\"\n",
        "    else:\n",
        "        return \"차선 못 찾음 → 감속\"\n",
        "\n",
        "print(check_lane(True))\n"
      ],
      "metadata": {
        "colab": {
          "base_uri": "https://localhost:8080/"
        },
        "id": "PQPHYWp0nKTT",
        "outputId": "1e702dbf-badc-43ed-863d-9654b57b14cb"
      },
      "execution_count": null,
      "outputs": [
        {
          "output_type": "stream",
          "name": "stdout",
          "text": [
            "차선 인식됨 → 주행 계속\n"
          ]
        }
      ]
    },
    {
      "cell_type": "markdown",
      "source": [
        "이 코드는 check_lane이라는 함수\n",
        "- 입력값 detected가 True면 \"차선 인식됨 → 주행 계속\"을 반환하고,\n",
        "- False면 \"차선 못 찾음 → 감속\"을 반환\n",
        "\n",
        "if는 조건문으로, \"만약 (조건)이 참(True)이라면, 그 다음 코드를 실행해\"라는 뜻\n",
        "\n",
        "예를 들어, if detected:는 \"만약 detected가 True라면\" 이라는 의미"
      ],
      "metadata": {
        "id": "IvOGK4rSvbAg"
      }
    },
    {
      "cell_type": "markdown",
      "source": [
        "❗️ 2. 장애물 거리 판단"
      ],
      "metadata": {
        "id": "38ywhSMEnLtE"
      }
    },
    {
      "cell_type": "code",
      "source": [
        "def check_obstacle(distance):\n",
        "    if distance < 10:\n",
        "        return \"장애물 가까움 → 급제동\"\n",
        "    elif distance < 30:\n",
        "        return \"장애물 있음 → 감속\"\n",
        "    else:\n",
        "        return \"도로 이상 없음 → 주행 유지\"\n",
        "\n",
        "print(check_obstacle(15))\n"
      ],
      "metadata": {
        "colab": {
          "base_uri": "https://localhost:8080/"
        },
        "id": "ROEG68JCnPXb",
        "outputId": "0cddb66d-9794-4855-ba94-a720c10c8070"
      },
      "execution_count": null,
      "outputs": [
        {
          "output_type": "stream",
          "name": "stdout",
          "text": [
            "장애물 있음 → 감속\n"
          ]
        }
      ]
    },
    {
      "cell_type": "markdown",
      "source": [
        "이 코드는 check_obstacle 함수\n",
        "- distance가 10 미만이면 \"장애물 가까움 → 급제동\",\n",
        "- 10 이상 30 미만이면 \"장애물 있음 → 감속\",\n",
        "- 30 이상이면 \"도로 이상 없음 → 주행 유지\"를 반환"
      ],
      "metadata": {
        "id": "W-781StdvlIS"
      }
    },
    {
      "cell_type": "markdown",
      "source": [
        "❗️ 3. 차선 중심에서 벗어난 정도 판단"
      ],
      "metadata": {
        "id": "Xg66TaL6nTv6"
      }
    },
    {
      "cell_type": "code",
      "source": [
        "def steering(offset):\n",
        "    if offset < -0.3:\n",
        "        return \"왼쪽으로 치우침 → 우회전\"\n",
        "    elif offset > 0.3:\n",
        "        return \"오른쪽으로 치우침 → 좌회전\"\n",
        "    else:\n",
        "        return \"중앙 유지 → 핸들 그대로\"\n",
        "\n",
        "print(steering(0.4))\n"
      ],
      "metadata": {
        "colab": {
          "base_uri": "https://localhost:8080/"
        },
        "id": "9jORK54knSW8",
        "outputId": "60f10b1d-4831-4c0a-bcb2-608c319b1942"
      },
      "execution_count": null,
      "outputs": [
        {
          "output_type": "stream",
          "name": "stdout",
          "text": [
            "오른쪽으로 치우침 → 좌회전\n"
          ]
        }
      ]
    },
    {
      "cell_type": "markdown",
      "source": [
        "이 코드는 steering 함수\n",
        "- offset이 -0.3보다 작으면 \"왼쪽으로 치우침 → 우회전\",\n",
        "- 0.3보다 크면 \"오른쪽으로 치우침 → 좌회전\",\n",
        "- 그렇지 않으면 \"중앙 유지 → 핸들 그대로\"를 반환"
      ],
      "metadata": {
        "id": "Cjl3CoJ9vwIR"
      }
    },
    {
      "cell_type": "markdown",
      "source": [
        "❗️ 4. 신호등 인식에 따른 동작"
      ],
      "metadata": {
        "id": "hVYtWbv_nbOS"
      }
    },
    {
      "cell_type": "code",
      "source": [
        "def traffic_light(signal):\n",
        "    if signal == \"red\":\n",
        "        return \"빨간불 → 정지\"\n",
        "    elif signal == \"yellow\":\n",
        "        return \"노란불 → 감속 준비\"\n",
        "    elif signal == \"green\":\n",
        "        return \"초록불 → 진행\"\n",
        "    else:\n",
        "        return \"신호 없음 → 조심\"\n",
        "\n",
        "print(traffic_light(\"yellow\"))\n"
      ],
      "metadata": {
        "colab": {
          "base_uri": "https://localhost:8080/"
        },
        "id": "HHVMcNUrnen2",
        "outputId": "d410c1dc-38bd-42ef-9858-b1275b3e3a59"
      },
      "execution_count": null,
      "outputs": [
        {
          "output_type": "stream",
          "name": "stdout",
          "text": [
            "노란불 → 감속 준비\n"
          ]
        }
      ]
    },
    {
      "cell_type": "markdown",
      "source": [
        "이 코드는 traffic_light 함수\n",
        "- 신호등 색깔 signal을 받아서,\n",
        "- \"red\"면 \"빨간불 → 정지\",\n",
        "- \"yellow\"면 \"노란불 → 감속 준비\",\n",
        "- \"green\"이면 \"초록불 → 진행\"을 반환\n",
        "- 그 외 값은 \"신호 없음 → 조심\"을 반환"
      ],
      "metadata": {
        "id": "VDxxcVLhv5EK"
      }
    },
    {
      "cell_type": "markdown",
      "source": [
        "❗️ 5. 전방 차량과의 거리 기반 속도 결정"
      ],
      "metadata": {
        "id": "tMvFlEMKnf3s"
      }
    },
    {
      "cell_type": "code",
      "source": [
        "def adjust_speed(distance):\n",
        "    if distance < 5:\n",
        "        return \"매우 근접 → 급제동\"\n",
        "    elif distance < 15:\n",
        "        return \"가까움 → 감속\"\n",
        "    else:\n",
        "        return \"충분한 거리 → 일정 속도 유지\"\n",
        "\n",
        "print(adjust_speed(20))\n"
      ],
      "metadata": {
        "colab": {
          "base_uri": "https://localhost:8080/"
        },
        "id": "884-r9BBnjl0",
        "outputId": "fe44f9c6-e775-415b-aa6c-299e30cd2d0e"
      },
      "execution_count": null,
      "outputs": [
        {
          "output_type": "stream",
          "name": "stdout",
          "text": [
            "충분한 거리 → 일정 속도 유지\n"
          ]
        }
      ]
    },
    {
      "cell_type": "markdown",
      "source": [
        "이 코드는 adjust_speed 함수\n",
        "- 전방 차량과의 거리 distance를 받아서,\n",
        "- 5m 미만이면 \"매우 근접 → 급제동\",\n",
        "- 5 이상 15 미만이면 \"가까움 → 감속\",\n",
        "- 15 이상이면 \"충분한 거리 → 일정 속도 유지\"를 반환"
      ],
      "metadata": {
        "id": "whWyldnKwB-R"
      }
    }
  ]
}