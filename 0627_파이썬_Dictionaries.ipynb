{
  "nbformat": 4,
  "nbformat_minor": 0,
  "metadata": {
    "colab": {
      "provenance": [],
      "authorship_tag": "ABX9TyMU9oQ4HjyQ0jCaYIXC/4nz",
      "include_colab_link": true
    },
    "kernelspec": {
      "name": "python3",
      "display_name": "Python 3"
    },
    "language_info": {
      "name": "python"
    }
  },
  "cells": [
    {
      "cell_type": "markdown",
      "metadata": {
        "id": "view-in-github",
        "colab_type": "text"
      },
      "source": [
        "<a href=\"https://colab.research.google.com/github/eunseojeon/AI-Coding-for-Autonomous-Driving/blob/main/0627_%ED%8C%8C%EC%9D%B4%EC%8D%AC_Dictionaries.ipynb\" target=\"_parent\"><img src=\"https://colab.research.google.com/assets/colab-badge.svg\" alt=\"Open In Colab\"/></a>"
      ]
    },
    {
      "cell_type": "markdown",
      "source": [
        "## 📝 Dictionaries 공부하기"
      ],
      "metadata": {
        "id": "G-WE6we8LCDh"
      }
    },
    {
      "cell_type": "markdown",
      "source": [
        "✅ 중괄호로 작성되며 키와 값을 갖습니다"
      ],
      "metadata": {
        "id": "bwzuYNhILLiU"
      }
    },
    {
      "cell_type": "code",
      "execution_count": 1,
      "metadata": {
        "colab": {
          "base_uri": "https://localhost:8080/"
        },
        "id": "p0M_dpYxKc8t",
        "outputId": "6e4d97e4-10de-48f2-f752-b4e1de414f3a"
      },
      "outputs": [
        {
          "output_type": "stream",
          "name": "stdout",
          "text": [
            "{'brand': 'Ford', 'model': 'Mustang', 'year': 1964}\n"
          ]
        }
      ],
      "source": [
        "thisdict = {\n",
        "  \"brand\": \"Ford\",\n",
        "  \"model\": \"Mustang\",\n",
        "  \"year\": 1964\n",
        "}\n",
        "print(thisdict)"
      ]
    },
    {
      "cell_type": "markdown",
      "source": [
        "✅ 브랜드의 값을 출력"
      ],
      "metadata": {
        "id": "wLw6hGxVLZtA"
      }
    },
    {
      "cell_type": "code",
      "source": [
        "thisdict = {\n",
        "  \"brand\": \"Ford\",\n",
        "  \"model\": \"Mustang\",\n",
        "  \"year\": 1964\n",
        "}\n",
        "print(thisdict[\"brand\"])"
      ],
      "metadata": {
        "colab": {
          "base_uri": "https://localhost:8080/"
        },
        "id": "vnPopQ1FLQgK",
        "outputId": "948a4b92-4195-41fe-e330-49928434af5f"
      },
      "execution_count": 2,
      "outputs": [
        {
          "output_type": "stream",
          "name": "stdout",
          "text": [
            "Ford\n"
          ]
        }
      ]
    },
    {
      "cell_type": "markdown",
      "source": [
        "✅ 중복은 허용되지 않음"
      ],
      "metadata": {
        "id": "-re2868kLdOH"
      }
    },
    {
      "cell_type": "code",
      "source": [
        "thisdict = {\n",
        "  \"brand\": \"Ford\",\n",
        "  \"model\": \"Mustang\",\n",
        "  \"year\": 1964,\n",
        "  \"year\": 2020\n",
        "}\n",
        "print(thisdict)"
      ],
      "metadata": {
        "colab": {
          "base_uri": "https://localhost:8080/"
        },
        "id": "W1ohR-oGLX46",
        "outputId": "58424c41-296d-4e89-9e12-eb9c8ad82c95"
      },
      "execution_count": 3,
      "outputs": [
        {
          "output_type": "stream",
          "name": "stdout",
          "text": [
            "{'brand': 'Ford', 'model': 'Mustang', 'year': 2020}\n"
          ]
        }
      ]
    },
    {
      "cell_type": "markdown",
      "source": [
        "✅ 문자열, 정수, 부울 및 목록 데이터 유형 하나씩 출력하기"
      ],
      "metadata": {
        "id": "-vdRVFanNEeB"
      }
    },
    {
      "cell_type": "code",
      "source": [
        "thisdict = {\n",
        "    \"brand\": \"Ford\",\n",
        "    \"electric\": False,\n",
        "    \"year\": 1964,\n",
        "    \"colors\": [\"red\", \"white\", \"blue\"]\n",
        "}\n",
        "\n",
        "# 딕셔너리 항목 출력\n",
        "print(\"브랜드:\", thisdict[\"brand\"])\n",
        "print(\"전기차 여부:\", thisdict[\"electric\"])\n",
        "print(\"제조 연도:\", thisdict[\"year\"])\n",
        "print(\"가능한 색상:\", thisdict[\"colors\"])\n"
      ],
      "metadata": {
        "colab": {
          "base_uri": "https://localhost:8080/"
        },
        "id": "yD551I44MRzJ",
        "outputId": "811bad9b-339d-4c81-fea4-6ee5616f032d"
      },
      "execution_count": 4,
      "outputs": [
        {
          "output_type": "stream",
          "name": "stdout",
          "text": [
            "브랜드: Ford\n",
            "전기차 여부: False\n",
            "제조 연도: 1964\n",
            "가능한 색상: ['red', 'white', 'blue']\n"
          ]
        }
      ]
    },
    {
      "cell_type": "markdown",
      "source": [
        "✅ Python의 관점에서 dictionaries는 'dict' 데이터 유형을 가진 객체로 정의된다"
      ],
      "metadata": {
        "id": "dKquD3xOPUti"
      }
    },
    {
      "cell_type": "code",
      "source": [
        "thisdict = {\n",
        "  \"brand\": \"Ford\",\n",
        "  \"model\": \"Mustang\",\n",
        "  \"year\": 1964\n",
        "}\n",
        "print(type(thisdict))"
      ],
      "metadata": {
        "colab": {
          "base_uri": "https://localhost:8080/"
        },
        "id": "LQONYCIkNIJJ",
        "outputId": "d74afa7c-d6fb-4d75-d6dc-19d8b90b01d9"
      },
      "execution_count": 5,
      "outputs": [
        {
          "output_type": "stream",
          "name": "stdout",
          "text": [
            "<class 'dict'>\n"
          ]
        }
      ]
    },
    {
      "cell_type": "markdown",
      "source": [
        "✅ 대괄호를 사용해서 키로 값을 가져올 수 있다"
      ],
      "metadata": {
        "id": "-Votrq4iyIY0"
      }
    },
    {
      "cell_type": "code",
      "source": [
        "student = {\n",
        "    \"name\": \"김학생\",\n",
        "    \"age\": 20,\n",
        "    \"grade\": \"A\"\n",
        "}\n",
        "\n",
        "# 값 가져오기\n",
        "print(student[\"name\"]) # 출력: 김학생\n",
        "print(student[\"age\"]) # 출력: 20"
      ],
      "metadata": {
        "colab": {
          "base_uri": "https://localhost:8080/"
        },
        "id": "CVNXm6wzx6Ie",
        "outputId": "0b10a416-214f-4fdd-931e-3be413f9d16b"
      },
      "execution_count": 6,
      "outputs": [
        {
          "output_type": "stream",
          "name": "stdout",
          "text": [
            "김학생\n",
            "20\n"
          ]
        }
      ]
    },
    {
      "cell_type": "markdown",
      "source": [
        "✅ dic에 항목이 몇 개가 있는지 확인하려면 len()함수 사용"
      ],
      "metadata": {
        "id": "jCORx5Wuyy-8"
      }
    },
    {
      "cell_type": "code",
      "source": [
        "thisdict = {\n",
        "    \"brand\": \"Ford\",\n",
        "    \"electric\": False,\n",
        "    \"year\": 1964,\n",
        "    \"colors\": [\"red\", \"white\", \"blue\"]\n",
        "}\n",
        "print(len(thisdict))"
      ],
      "metadata": {
        "colab": {
          "base_uri": "https://localhost:8080/"
        },
        "id": "0n1pJHKsyju3",
        "outputId": "dade4a1f-59df-4b18-9c79-73d37a94a85d"
      },
      "execution_count": 7,
      "outputs": [
        {
          "output_type": "stream",
          "name": "stdout",
          "text": [
            "4\n"
          ]
        }
      ]
    },
    {
      "cell_type": "markdown",
      "source": [
        "✅ 키 목록은 dic의 '보기'이며 이는 dic에 적용된 모든 변경사항이 키 목록에 반영됨을 의미한다\n",
        "- key()는 dic의 모든 키 목록을 반환"
      ],
      "metadata": {
        "id": "PAmlZ70YzHGx"
      }
    },
    {
      "cell_type": "code",
      "source": [
        "car = {\n",
        "\"brand\": \"Ford\",\n",
        "\"model\": \"Mustang\",\n",
        "\"year\": 1964\n",
        "}\n",
        "\n",
        "x = car.keys()\n",
        "\n",
        "print(x) #before the change\n",
        "\n",
        "car[\"color\"] = \"white\"\n",
        "\n",
        "print(x) #after the change"
      ],
      "metadata": {
        "colab": {
          "base_uri": "https://localhost:8080/"
        },
        "id": "u_gHTuaXy5bX",
        "outputId": "88d9f577-8fad-42e8-9382-35fad3dae917"
      },
      "execution_count": 8,
      "outputs": [
        {
          "output_type": "stream",
          "name": "stdout",
          "text": [
            "dict_keys(['brand', 'model', 'year'])\n",
            "dict_keys(['brand', 'model', 'year', 'color'])\n"
          ]
        }
      ]
    },
    {
      "cell_type": "markdown",
      "source": [
        "✅ values()는 dic의 모든 값 목록을 반환"
      ],
      "metadata": {
        "id": "u5zNEExhzVhK"
      }
    },
    {
      "cell_type": "code",
      "source": [
        "car = {\n",
        "\"brand\": \"Ford\",\n",
        "\"model\": \"Mustang\",\n",
        "\"년도\": 1964\n",
        "}\n",
        "\n",
        "x = car.values()\n",
        "\n",
        "print(x) #before the change\n",
        "\n",
        "car[\"년도\"] = 2020\n",
        "\n",
        "print(x) #after the change\n"
      ],
      "metadata": {
        "colab": {
          "base_uri": "https://localhost:8080/"
        },
        "id": "XfvIoOBCzWB5",
        "outputId": "f7063a8a-52d2-45a2-c09e-9ddbdf4f135c"
      },
      "execution_count": 9,
      "outputs": [
        {
          "output_type": "stream",
          "name": "stdout",
          "text": [
            "dict_values(['Ford', 'Mustang', 1964])\n",
            "dict_values(['Ford', 'Mustang', 2020])\n"
          ]
        }
      ]
    },
    {
      "cell_type": "markdown",
      "source": [
        "✅ items()는 dic의 각 항목을 목록의 튜플로 반환"
      ],
      "metadata": {
        "id": "CXkq4hmqzvyp"
      }
    },
    {
      "cell_type": "code",
      "source": [
        "car = {\n",
        "\"brand\": \"Ford\",\n",
        "\"model\": \"Mustang\",\n",
        "\"year\": 1964\n",
        "}\n",
        "\n",
        "x = car.items()\n",
        "\n",
        "print(x) #before the change\n",
        "\n",
        "car[\"color\"] = \"red\"\n",
        "\n",
        "print(x) #after the change"
      ],
      "metadata": {
        "colab": {
          "base_uri": "https://localhost:8080/"
        },
        "id": "fdKzSH060G29",
        "outputId": "09a22c0a-0613-455a-fd3d-e10833d42528"
      },
      "execution_count": 10,
      "outputs": [
        {
          "output_type": "stream",
          "name": "stdout",
          "text": [
            "dict_items([('brand', 'Ford'), ('model', 'Mustang'), ('year', 1964)])\n",
            "dict_items([('brand', 'Ford'), ('model', 'Mustang'), ('year', 1964), ('color', 'red')])\n"
          ]
        }
      ]
    },
    {
      "cell_type": "markdown",
      "source": [
        "✅ 저장된 키가 dic에 있는지 확인하려면 **in**키워드 사용"
      ],
      "metadata": {
        "id": "Gu93RqLf0kER"
      }
    },
    {
      "cell_type": "code",
      "source": [
        "thisdict = {\n",
        "  \"브랜드\": \"포드\",\n",
        "  \"모델\": \"머스탱\",\n",
        "  \"출시연도\": 1964\n",
        "}\n",
        "\n",
        "if \"모델\" in thisdict:\n",
        "  print(\"네, '모델'은 thisdict 딕셔너리의 키 중 하나입니다.\")\n"
      ],
      "metadata": {
        "colab": {
          "base_uri": "https://localhost:8080/"
        },
        "id": "0uYX51R10ijp",
        "outputId": "621024d4-30bf-45e6-c27e-3554933cae15"
      },
      "execution_count": 11,
      "outputs": [
        {
          "output_type": "stream",
          "name": "stdout",
          "text": [
            "네, '모델'은 thisdict 딕셔너리의 키 중 하나입니다.\n"
          ]
        }
      ]
    },
    {
      "cell_type": "markdown",
      "source": [
        "✅ dic에 항목을 추카하려면 새 인덱스 키를 사용하고 해당 키에 값을 할당해주면 됨"
      ],
      "metadata": {
        "id": "zFqk5OWz03KX"
      }
    },
    {
      "cell_type": "code",
      "source": [
        "thisdict = {\n",
        "  \"brand\": \"Ford\",\n",
        "  \"model\": \"Mustang\",\n",
        "  \"year\": 1964\n",
        "}\n",
        "thisdict[\"color\"] = \"red\"\n",
        "print(thisdict)"
      ],
      "metadata": {
        "colab": {
          "base_uri": "https://localhost:8080/"
        },
        "id": "-QxRsOMz085P",
        "outputId": "dcdefcbd-7514-4822-c53c-c9f96df36d75"
      },
      "execution_count": 12,
      "outputs": [
        {
          "output_type": "stream",
          "name": "stdout",
          "text": [
            "{'brand': 'Ford', 'model': 'Mustang', 'year': 1964, 'color': 'red'}\n"
          ]
        }
      ]
    },
    {
      "cell_type": "markdown",
      "source": [
        "## 🚗 자율주행 관련 Dictionaries"
      ],
      "metadata": {
        "id": "bxjADxLo2noJ"
      }
    },
    {
      "cell_type": "markdown",
      "source": [
        "🛞 경로 계획 - 목적지별 거리 정보"
      ],
      "metadata": {
        "id": "tPhbgKlV2lpJ"
      }
    },
    {
      "cell_type": "code",
      "source": [
        "# 1. 경로 계획 - 목적지별 거리 정보\n",
        "destinations = ['집', '회사', '마트', '주유소'] #destinations: 목적지, 도착지\n",
        "distances_km = [0, 15, 8, 12]\n",
        "\n",
        "route_plan = {}\n",
        "route_plan['집'] = 0\n",
        "route_plan['회사'] = 15\n",
        "route_plan['마트'] = 8\n",
        "route_plan['주유소'] = 12\n",
        "\n",
        "print(\"목적지별 거리:\", route_plan)"
      ],
      "metadata": {
        "colab": {
          "base_uri": "https://localhost:8080/"
        },
        "id": "5L-nt45N1FvP",
        "outputId": "a82074cd-2ec6-401e-f1ca-8d6114bb3bb3"
      },
      "execution_count": 13,
      "outputs": [
        {
          "output_type": "stream",
          "name": "stdout",
          "text": [
            "목적지별 거리: {'집': 0, '회사': 15, '마트': 8, '주유소': 12}\n"
          ]
        }
      ]
    },
    {
      "cell_type": "code",
      "source": [
        "# 2. 차량 상태 체크\n",
        "vehicle_parts = ['엔진', '브레이크', '타이어', '배터리'] #vehicle parts = 차량 부품들, 자동차 부품\n",
        "status_codes = ['정상', '정상', '교체필요', '정상']\n",
        "\n",
        "vehicle_status = {}\n",
        "vehicle_status['엔진'] = '정상'\n",
        "vehicle_status['브레이크'] = '정상'\n",
        "vehicle_status['타이어'] = '교체필요'\n",
        "vehicle_status['배터리'] = '정상'\n",
        "\n",
        "print(\"차량 상태:\", vehicle_status)"
      ],
      "metadata": {
        "colab": {
          "base_uri": "https://localhost:8080/"
        },
        "id": "zMNsVSmq2acr",
        "outputId": "4fea4a29-629d-4133-89a6-5bb9477409ae"
      },
      "execution_count": 14,
      "outputs": [
        {
          "output_type": "stream",
          "name": "stdout",
          "text": [
            "차량 상태: {'엔진': '정상', '브레이크': '정상', '타이어': '교체필요', '배터리': '정상'}\n"
          ]
        }
      ]
    },
    {
      "cell_type": "code",
      "source": [
        "# 3. 신호등 정보 관리\n",
        "intersections = ['서울역', '강남역', '홍대입구'] #intersections: 교차로, 교차점\n",
        "light_colors = ['빨강', '초록', '노랑']\n",
        "\n",
        "traffic_lights = {}\n",
        "traffic_lights['서울역'] = '빨강'\n",
        "traffic_lights['강남역'] = '초록'\n",
        "traffic_lights['홍대입구'] = '노랑'\n",
        "\n",
        "print(\"교차로 신호등:\", traffic_lights)"
      ],
      "metadata": {
        "colab": {
          "base_uri": "https://localhost:8080/"
        },
        "id": "DrkuWV_B2-Jc",
        "outputId": "12b2ca9e-64f9-48db-8dc5-ed00bf71b25c"
      },
      "execution_count": 15,
      "outputs": [
        {
          "output_type": "stream",
          "name": "stdout",
          "text": [
            "교차로 신호등: {'서울역': '빨강', '강남역': '초록', '홍대입구': '노랑'}\n"
          ]
        }
      ]
    },
    {
      "cell_type": "code",
      "source": [
        "# 4. 주차장 정보\n",
        "parking_zones = ['A구역', 'B구역', 'C구역', 'D구역']\n",
        "empty_spots = [5, 0, 12, 3]\n",
        "\n",
        "parking_info = {}\n",
        "parking_info['A구역'] = 5\n",
        "parking_info['B구역'] = 0\n",
        "parking_info['C구역'] = 12\n",
        "parking_info['D구역'] = 3\n",
        "\n",
        "print(\"주차장 빈자리:\", parking_info)\n"
      ],
      "metadata": {
        "colab": {
          "base_uri": "https://localhost:8080/"
        },
        "id": "9ERx2iw12_8J",
        "outputId": "b7ea4cb8-6de0-4113-86e2-7b60bd0c57e0"
      },
      "execution_count": 16,
      "outputs": [
        {
          "output_type": "stream",
          "name": "stdout",
          "text": [
            "주차장 빈자리: {'A구역': 5, 'B구역': 0, 'C구역': 12, 'D구역': 3}\n"
          ]
        }
      ]
    },
    {
      "cell_type": "code",
      "source": [
        "# 5. 속도 제한 구간\n",
        "road_sections = ['시내도로', '국도', '고속도로', '스쿨존']\n",
        "speed_limits = [50, 70, 100, 30]\n",
        "\n",
        "speed_zones = {}\n",
        "speed_zones['시내도로'] = 50\n",
        "speed_zones['국도'] = 70\n",
        "speed_zones['고속도로'] = 100\n",
        "speed_zones['스쿨존'] = 30\n",
        "\n",
        "print(\"구간별 제한속도:\", speed_zones)"
      ],
      "metadata": {
        "colab": {
          "base_uri": "https://localhost:8080/"
        },
        "id": "gAqv88zw3Cgp",
        "outputId": "971084fc-98c9-4730-bf11-704fa2f74653"
      },
      "execution_count": 17,
      "outputs": [
        {
          "output_type": "stream",
          "name": "stdout",
          "text": [
            "구간별 제한속도: {'시내도로': 50, '국도': 70, '고속도로': 100, '스쿨존': 30}\n"
          ]
        }
      ]
    },
    {
      "cell_type": "code",
      "source": [
        "# 6. 연료/충전소 정보\n",
        "station_names = ['GS칼텍스', '현대오일뱅크', '테슬라충전소', 'SK에너지']\n",
        "distances_to_stations = [2.5, 5.8, 1.2, 4.3]\n",
        "\n",
        "fuel_stations = {}\n",
        "fuel_stations['GS칼텍스'] = 2.5\n",
        "fuel_stations['현대오일뱅크'] = 5.8\n",
        "fuel_stations['테슬라충전소'] = 1.2\n",
        "fuel_stations['SK에너지'] = 4.3\n",
        "\n",
        "print(\"주유소까지 거리:\", fuel_stations)"
      ],
      "metadata": {
        "colab": {
          "base_uri": "https://localhost:8080/"
        },
        "id": "1iK7f_bN3Epy",
        "outputId": "fd4f9cc6-d2d0-4d32-8249-bc0be756cdad"
      },
      "execution_count": 18,
      "outputs": [
        {
          "output_type": "stream",
          "name": "stdout",
          "text": [
            "주유소까지 거리: {'GS칼텍스': 2.5, '현대오일뱅크': 5.8, '테슬라충전소': 1.2, 'SK에너지': 4.3}\n"
          ]
        }
      ]
    },
    {
      "cell_type": "code",
      "source": [
        "# 7. 날씨별 주행 모드\n",
        "weather_conditions = ['맑음', '비', '눈', '안개']\n",
        "drive_modes = ['일반', '주의', '서행', '서행']\n",
        "\n",
        "weather_driving = {}\n",
        "weather_driving['맑음'] = '일반'\n",
        "weather_driving['비'] = '주의'\n",
        "weather_driving['눈'] = '서행'\n",
        "weather_driving['안개'] = '서행'\n",
        "\n",
        "print(\"날씨별 주행모드:\", weather_driving)"
      ],
      "metadata": {
        "colab": {
          "base_uri": "https://localhost:8080/"
        },
        "id": "Qk5lkX8Z3G17",
        "outputId": "782313c9-97c9-47ee-e09b-79c9ce9aa6ab"
      },
      "execution_count": 19,
      "outputs": [
        {
          "output_type": "stream",
          "name": "stdout",
          "text": [
            "날씨별 주행모드: {'맑음': '일반', '비': '주의', '눈': '서행', '안개': '서행'}\n"
          ]
        }
      ]
    },
    {
      "cell_type": "code",
      "source": [],
      "metadata": {
        "id": "1v4qlgNeCkFp"
      },
      "execution_count": 19,
      "outputs": []
    },
    {
      "cell_type": "markdown",
      "source": [
        "1. 🚥 스마트 신호등 타이밍 최적화"
      ],
      "metadata": {
        "id": "jFPkc5JJ-w-O"
      }
    },
    {
      "cell_type": "code",
      "source": [
        "#과제1. 스마트 신호등 타이밍 최적화\n",
        "print(\"=== 과제 1: 스마트 신호등 타이밍 최적화 ===\")\n",
        "\n",
        "intersections=['서울역앞', '시청앞', '종로3가', '을지로입구']\n",
        "waiting_cars=[12,8,15,5] #교차로 별 대기 차량 수\n",
        "traffic_signals={}\n",
        "traffic_signals['서울역앞']={'color':'빨강','time_left':25, 'waiting':12}\n",
        "traffic_signals['시청앞']={'color':'초록', 'time_left':15, 'waiting':8}\n",
        "traffic_signals['종로3가']={'color':'빨강', 'time_left':40, 'waiting':15}\n",
        "traffic_signals['을지로입구']={'color':'노랑', 'time_left':3, 'waiting':5} #현재 신호등 상태와 남은 시간\n",
        "\n",
        "print(\"현재 교차로 상황:\")\n",
        "for intersection in intersections:\n",
        "  signal=traffic_signals[intersection]\n",
        "  print(f\"{intersection}: {signal['color']} {signal['time_left']}초, 대기차량 {signal['waiting']}대\")\n",
        "\n",
        "#우선순위 교차로 선정(대기차량 10대 이상이면 우선 처리)\n",
        "print(\"\\n우선처리 필요 교차로\")\n",
        "for intersection in intersections:\n",
        "        if traffic_signals[intersection]['waiting']>=10:\n",
        "            print(f\"⚠️{intersection}: 대기차량 {traffic_signals[intersection]['waiting']}대\")"
      ],
      "metadata": {
        "colab": {
          "base_uri": "https://localhost:8080/"
        },
        "id": "0EmqvFLj4Ez6",
        "outputId": "6d5f3ee7-9fc6-4227-a78e-aa699321bf33"
      },
      "execution_count": 20,
      "outputs": [
        {
          "output_type": "stream",
          "name": "stdout",
          "text": [
            "=== 과제 1: 스마트 신호등 타이밍 최적화 ===\n",
            "현재 교차로 상황:\n",
            "서울역앞: 빨강 25초, 대기차량 12대\n",
            "시청앞: 초록 15초, 대기차량 8대\n",
            "종로3가: 빨강 40초, 대기차량 15대\n",
            "을지로입구: 노랑 3초, 대기차량 5대\n",
            "\n",
            "우선처리 필요 교차로\n",
            "⚠️서울역앞: 대기차량 12대\n",
            "⚠️종로3가: 대기차량 15대\n"
          ]
        }
      ]
    },
    {
      "cell_type": "markdown",
      "source": [
        "2. 🏎️ 자동 발렛파킹 시스템"
      ],
      "metadata": {
        "id": "NSgIPDfiCEOr"
      }
    },
    {
      "cell_type": "code",
      "source": [
        "#과제 2. 자동 발렛파킹 시스템\n",
        "print(\"\\n=== 과제 2: 자동 발렛파킹 시스템 ===\")\n",
        "\n",
        "# 차량 크기별 분류\n",
        "vehicle_sizes = ['소형', '중형', '대형', 'SUV']\n",
        "size_counts = [15, 20, 8, 12]\n",
        "\n",
        "# 주차공간 크기별 현황\n",
        "parking_spaces = {}\n",
        "parking_spaces['소형전용'] = {'total': 30, 'occupied': 15, 'size_limit': '소형'}\n",
        "parking_spaces['일반공간'] = {'total': 40, 'occupied': 28, 'size_limit': '중형'}\n",
        "parking_spaces['대형공간'] = {'total': 15, 'occupied': 8, 'size_limit': '대형'}\n",
        "parking_spaces['SUV전용'] = {'total': 20, 'occupied': 12, 'size_limit': 'SUV'}\n",
        "\n",
        "print(\"주차공간 현황:\")\n",
        "for space_type in parking_spaces:\n",
        "    space = parking_spaces[space_type]\n",
        "    available = space['total'] - space['occupied']\n",
        "    print(f\"{space_type}: {available}/{space['total']} 가능 ({space['size_limit']} 전용)\")\n",
        "\n",
        "# 신규 차량 주차 시뮬레이션\n",
        "new_vehicle = 'SUV'\n",
        "print(f\"\\n신규 {new_vehicle} 차량 주차 요청\")\n"
      ],
      "metadata": {
        "colab": {
          "base_uri": "https://localhost:8080/"
        },
        "id": "g7cu5DNf_uNh",
        "outputId": "86aea5e5-76d2-4b00-9f3b-7c65cb239e98"
      },
      "execution_count": 21,
      "outputs": [
        {
          "output_type": "stream",
          "name": "stdout",
          "text": [
            "\n",
            "=== 과제 2: 자동 발렛파킹 시스템 ===\n",
            "주차공간 현황:\n",
            "소형전용: 15/30 가능 (소형 전용)\n",
            "일반공간: 12/40 가능 (중형 전용)\n",
            "대형공간: 7/15 가능 (대형 전용)\n",
            "SUV전용: 8/20 가능 (SUV 전용)\n",
            "\n",
            "신규 SUV 차량 주차 요청\n"
          ]
        }
      ]
    },
    {
      "cell_type": "code",
      "source": [
        "#과제 3: 차량 군집주행 관리 시스템\n",
        "print(\"\\n=== 과제 3: 차량 군집주행 관리 시스템 ===\")\n",
        "\n",
        "# 군집주행 그룹 정보\n",
        "convoy_groups = ['그룹A', '그룹B', '그룹C']\n",
        "group_vehicles = [[3, 4, 2], [5, 6, 8], [2, 3]]  # 각 그룹의 차량 수\n",
        "\n",
        "# 각 그룹별 상세 정보\n",
        "convoy_info = {}\n",
        "convoy_info['그룹A'] = {'vehicles': 3, 'leader_speed': 80, 'formation': '일렬'}\n",
        "convoy_info['그룹B'] = {'vehicles': 5, 'leader_speed': 70, 'formation': '삼각'}\n",
        "convoy_info['그룹C'] = {'vehicles': 2, 'leader_speed': 90, 'formation': '병렬'}\n",
        "\n",
        "print(\"군집주행 현황:\")\n",
        "for group in convoy_groups:\n",
        "    info = convoy_info[group]\n",
        "    print(f\"{group}: {info['vehicles']}대, 속도 {info['leader_speed']}km/h, {info['formation']}대형\")\n",
        "\n",
        "# 안전 속도 권장 (5대 이상이면 속도 제한)\n",
        "print(\"\\n안전 권장사항:\")\n",
        "for group in convoy_groups:\n",
        "    info = convoy_info[group]\n",
        "    if info['vehicles'] >= 5:\n",
        "        recommended_speed = 60\n",
        "        print(f\"{group}: 차량 {info['vehicles']}대로 인해 {recommended_speed}km/h 이하 권장\")\n",
        "\n",
        "\n",
        "\n"
      ],
      "metadata": {
        "colab": {
          "base_uri": "https://localhost:8080/"
        },
        "id": "XKx_CDzCBcSM",
        "outputId": "eee4e539-a696-4424-b827-ce1c2b190dd6"
      },
      "execution_count": 22,
      "outputs": [
        {
          "output_type": "stream",
          "name": "stdout",
          "text": [
            "\n",
            "=== 과제 3: 차량 군집주행 관리 시스템 ===\n",
            "군집주행 현황:\n",
            "그룹A: 3대, 속도 80km/h, 일렬대형\n",
            "그룹B: 5대, 속도 70km/h, 삼각대형\n",
            "그룹C: 2대, 속도 90km/h, 병렬대형\n",
            "\n",
            "안전 권장사항:\n",
            "그룹B: 차량 5대로 인해 60km/h 이하 권장\n"
          ]
        }
      ]
    },
    {
      "cell_type": "code",
      "source": [
        "# 적합한 주차공간 찾기\n",
        "suitable_spaces = []\n",
        "for space_type in parking_spaces:\n",
        "    space = parking_spaces[space_type]\n",
        "    available = space['total'] - space['occupied']\n",
        "    if space['size_limit'] == new_vehicle and available > 0:\n",
        "        suitable_spaces.append(space_type)\n",
        "\n",
        "if suitable_spaces:\n",
        "    print(f\"✅ {suitable_spaces[0]}에 주차 가능\")\n",
        "else:\n",
        "    print(\"❌ 적합한 주차공간 없음\")\n"
      ],
      "metadata": {
        "colab": {
          "base_uri": "https://localhost:8080/"
        },
        "id": "F7--vbLlBeg-",
        "outputId": "4740d496-6a66-4a22-c36b-e159b0b68574"
      },
      "execution_count": 23,
      "outputs": [
        {
          "output_type": "stream",
          "name": "stdout",
          "text": [
            "✅ SUV전용에 주차 가능\n"
          ]
        }
      ]
    },
    {
      "cell_type": "code",
      "source": [
        "#과제 4: 도로 위험도 평가 및 경고 시스템\n",
        "print(\"\\n=== 과제 4: 도로 위험도 평가 및 경고 시스템 ===\")\n",
        "\n",
        "# 전기차량 상태 정보 (예시 데이터 추가)\n",
        "ev_fleet = ['차량A', '차량B', '차량C', '차량D']\n",
        "ev_status = {\n",
        "    '차량A': {'battery': 85, 'location': '강남'},\n",
        "    '차량B': {'battery': 25, 'location': '서초'},\n",
        "    '차량C': {'battery': 60, 'location': '종로'},\n",
        "    '차량D': {'battery': 15, 'location': '을지로'}\n",
        "}\n",
        "\n",
        "# 긴급 충전 필요 차량 (배터리 30% 이하)\n",
        "print(\"\\n긴급 충전 필요:\")\n",
        "urgent_vehicles = []\n",
        "for vehicle in ev_fleet:\n",
        "    if ev_status[vehicle]['battery'] <= 30:\n",
        "        urgent_vehicles.append(vehicle)\n",
        "        print(f\"🔋 {vehicle}: {ev_status[vehicle]['battery']}% - 즉시 충전 필요\")\n",
        "\n",
        "# 충전소 예약 시스템\n",
        "charging_stations = {}\n",
        "charging_stations['강남충전소'] = {'slots': 5, 'reserved': 2, 'fast_charge': True}\n",
        "charging_stations['서초충전소'] = {'slots': 3, 'reserved': 1, 'fast_charge': False}\n",
        "charging_stations['종로충전소'] = {'slots': 4, 'reserved': 4, 'fast_charge': True}\n",
        "\n",
        "print(\"\\n충전소 예약 현황:\")\n",
        "for station in charging_stations:\n",
        "    info = charging_stations[station]\n",
        "    available = info['slots'] - info['reserved']\n",
        "    charge_type = \"급속\" if info['fast_charge'] else \"완속\"\n",
        "    print(f\"{station}: {available}/{info['slots']} 이용가능 ({charge_type})\")"
      ],
      "metadata": {
        "colab": {
          "base_uri": "https://localhost:8080/"
        },
        "id": "EdVmFIyXBly5",
        "outputId": "d9443b29-fd4b-4a80-aa3d-cfa889500d80"
      },
      "execution_count": 24,
      "outputs": [
        {
          "output_type": "stream",
          "name": "stdout",
          "text": [
            "\n",
            "=== 과제 4: 도로 위험도 평가 및 경고 시스템 ===\n",
            "\n",
            "긴급 충전 필요:\n",
            "🔋 차량B: 25% - 즉시 충전 필요\n",
            "🔋 차량D: 15% - 즉시 충전 필요\n",
            "\n",
            "충전소 예약 현황:\n",
            "강남충전소: 3/5 이용가능 (급속)\n",
            "서초충전소: 2/3 이용가능 (완속)\n",
            "종로충전소: 0/4 이용가능 (급속)\n"
          ]
        }
      ]
    }
  ]
}