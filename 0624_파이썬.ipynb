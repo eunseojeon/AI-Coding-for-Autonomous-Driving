{
  "nbformat": 4,
  "nbformat_minor": 0,
  "metadata": {
    "colab": {
      "provenance": [],
      "authorship_tag": "ABX9TyPKncFTbj9hp2tzMLEVxmd0",
      "include_colab_link": true
    },
    "kernelspec": {
      "name": "python3",
      "display_name": "Python 3"
    },
    "language_info": {
      "name": "python"
    }
  },
  "cells": [
    {
      "cell_type": "markdown",
      "metadata": {
        "id": "view-in-github",
        "colab_type": "text"
      },
      "source": [
        "<a href=\"https://colab.research.google.com/github/eunseojeon/AI-Coding-for-Autonomous-Driving/blob/main/0624_%ED%8C%8C%EC%9D%B4%EC%8D%AC.ipynb\" target=\"_parent\"><img src=\"https://colab.research.google.com/assets/colab-badge.svg\" alt=\"Open In Colab\"/></a>"
      ]
    },
    {
      "cell_type": "code",
      "source": [
        "age = 20\n",
        "score = 70\n",
        "\n",
        "if age >= 18:\n",
        "    if score >= 80:\n",
        "        print(\"합격\")\n",
        "    else:\n",
        "        print(\"불합격\")\n",
        "else:\n",
        "    print(\"결과 미성년\")\n"
      ],
      "metadata": {
        "colab": {
          "base_uri": "https://localhost:8080/"
        },
        "id": "_ifDeADbxymE",
        "outputId": "768d33fa-bc79-448a-ada7-abe7749580ea"
      },
      "execution_count": 1,
      "outputs": [
        {
          "output_type": "stream",
          "name": "stdout",
          "text": [
            "불합격\n"
          ]
        }
      ]
    },
    {
      "cell_type": "code",
      "source": [
        "height_1 = 170\n",
        "height_2 = 150\n",
        "height_3 = 180\n",
        "height_4 = 175\n",
        "height_5 = 178\n",
        "\n",
        "sum = height_1 + height_2 + height_3 + height_4 + height_5\n",
        "mean = sum / 5\n",
        "\n",
        "print (mean)"
      ],
      "metadata": {
        "colab": {
          "base_uri": "https://localhost:8080/"
        },
        "id": "PISluvcQytgm",
        "outputId": "4864fe25-8c48-4b39-dfcb-9795f9c5431a"
      },
      "execution_count": 2,
      "outputs": [
        {
          "output_type": "stream",
          "name": "stdout",
          "text": [
            "170.6\n"
          ]
        }
      ]
    },
    {
      "cell_type": "code",
      "source": [
        "heights = [160, 170, 180, 175, 165]\n",
        "total = 0\n",
        "for height in heights:\n",
        "    total += height\n",
        "average = total / len(heights)\n",
        "print(\"총합:\", total)\n",
        "print(\"평균 키:\", average)"
      ],
      "metadata": {
        "colab": {
          "base_uri": "https://localhost:8080/"
        },
        "id": "xouDbGnFy5R7",
        "outputId": "e6138c64-9346-4358-ae1a-46973c01c9aa"
      },
      "execution_count": 3,
      "outputs": [
        {
          "output_type": "stream",
          "name": "stdout",
          "text": [
            "총합: 850\n",
            "평균 키: 170.0\n"
          ]
        }
      ]
    },
    {
      "cell_type": "markdown",
      "source": [
        "<키 평균 구하는 if문>"
      ],
      "metadata": {
        "id": "KAf3OLQP2pAo"
      }
    },
    {
      "cell_type": "code",
      "source": [
        "height_1 = 169\n",
        "height_2 = 150\n",
        "height_3 = 180\n",
        "height_4 = 175\n",
        "height_5 = 178\n",
        "\n",
        "sum = height_1 + height_2 + height_3 + height_4 + height_5\n",
        "mean = sum / 5\n",
        "\n",
        "print(\"평균 키:\", mean)\n",
        "\n",
        "# 170 이상과 미만 구분\n",
        "for height in [height_1, height_2, height_3, height_4, height_5]:\n",
        "    if height >= 170.4:\n",
        "        print(height, \"cm → 평균이상\")\n",
        "    else:\n",
        "        print(height, \"cm → 평균아래\")\n"
      ],
      "metadata": {
        "colab": {
          "base_uri": "https://localhost:8080/"
        },
        "id": "xiLZu8MEzQDv",
        "outputId": "fa947d86-41ab-4c8d-ba88-0597b6dad69c"
      },
      "execution_count": 4,
      "outputs": [
        {
          "output_type": "stream",
          "name": "stdout",
          "text": [
            "평균 키: 170.4\n",
            "169 cm → 평균아래\n",
            "150 cm → 평균아래\n",
            "180 cm → 평균이상\n",
            "175 cm → 평균이상\n",
            "178 cm → 평균이상\n"
          ]
        }
      ]
    },
    {
      "cell_type": "markdown",
      "source": [
        "**<자율주행 신호등 if문 샘플>**"
      ],
      "metadata": {
        "id": "Y6CbS4B92XgW"
      }
    },
    {
      "cell_type": "code",
      "source": [
        "#자율주행 신호등과 관련된 if문\n",
        "traffic_light = \"red\"  # 신호등 색: red, yellow, green\n",
        "\n",
        "if traffic_light == \"red\":\n",
        "    print(\"정지\")\n",
        "elif traffic_light == \"yellow\":\n",
        "    print(\"감속\")\n",
        "elif traffic_light == \"green\":\n",
        "    print(\"전진\")\n"
      ],
      "metadata": {
        "colab": {
          "base_uri": "https://localhost:8080/"
        },
        "id": "L59z7nAy1-91",
        "outputId": "9532061d-1512-47d8-f6b0-e52afb7db186"
      },
      "execution_count": 5,
      "outputs": [
        {
          "output_type": "stream",
          "name": "stdout",
          "text": [
            "정지\n"
          ]
        }
      ]
    },
    {
      "cell_type": "markdown",
      "source": [
        "**<자율주행 차선이탈 if문 샘플>**"
      ],
      "metadata": {
        "id": "_qBX8OFr2gEU"
      }
    },
    {
      "cell_type": "code",
      "source": [
        "#앞차와의 거리 판단\n",
        "distance = 5  # 앞차와의 거리 (단위: m)\n",
        "\n",
        "if distance < 3:\n",
        "    print(\"급정지!\")\n",
        "elif distance < 10:\n",
        "    print(\"속도 줄이기\")\n",
        "else:\n",
        "    print(\"정상 주행\")\n"
      ],
      "metadata": {
        "colab": {
          "base_uri": "https://localhost:8080/"
        },
        "id": "DZSxdbAK2Q_s",
        "outputId": "da45a03a-fbce-4a9e-b0c0-2d58f3bc097d"
      },
      "execution_count": 6,
      "outputs": [
        {
          "output_type": "stream",
          "name": "stdout",
          "text": [
            "속도 줄이기\n"
          ]
        }
      ]
    },
    {
      "cell_type": "markdown",
      "source": [
        "**<차선이탈 감지if문>**"
      ],
      "metadata": {
        "id": "dcBraGY726Md"
      }
    },
    {
      "cell_type": "code",
      "source": [
        "#차선 이탈 감지\n",
        "lane_departure = True  # 차선을 벗어났는지 여부\n",
        "\n",
        "if lane_departure:\n",
        "    print(\"차선 복귀 조향\")\n",
        "else:\n",
        "    print(\"유지 주행\")\n"
      ],
      "metadata": {
        "colab": {
          "base_uri": "https://localhost:8080/"
        },
        "id": "3AxN7tYF229L",
        "outputId": "05996903-bc58-47ad-8a19-5d63d093f93e"
      },
      "execution_count": 7,
      "outputs": [
        {
          "output_type": "stream",
          "name": "stdout",
          "text": [
            "차선 복귀 조향\n"
          ]
        }
      ]
    },
    {
      "cell_type": "markdown",
      "source": [
        "**<와이퍼 작동 if문 샘플>**"
      ],
      "metadata": {
        "id": "yLKifGGA3KW-"
      }
    },
    {
      "cell_type": "code",
      "source": [
        "#비오는 날 와이퍼 작동\n",
        "is_raining = True\n",
        "\n",
        "if is_raining:\n",
        "    print(\"와이퍼 작동\")\n",
        "else:\n",
        "    print(\"와이퍼 정지\")\n"
      ],
      "metadata": {
        "colab": {
          "base_uri": "https://localhost:8080/"
        },
        "id": "epVxHRlb3CfF",
        "outputId": "423d5b8e-7a12-48e5-870c-91082103522f"
      },
      "execution_count": 8,
      "outputs": [
        {
          "output_type": "stream",
          "name": "stdout",
          "text": [
            "와이퍼 작동\n"
          ]
        }
      ]
    },
    {
      "cell_type": "markdown",
      "source": [
        "**<보행자 감지 시 정지하는 if문 샘플>**"
      ],
      "metadata": {
        "id": "F5-4uRPu3S5T"
      }
    },
    {
      "cell_type": "code",
      "source": [
        "#보행자 감지 시 정지\n",
        "pedestrian_detected = True  # 카메라나 센서가 사람을 감지했는지 여부\n",
        "car_speed = 30  # 현재 속도 (단위: km/h)\n",
        "\n",
        "if pedestrian_detected:\n",
        "    if car_speed > 0:\n",
        "        print(\"보행자 감지됨 → 차량 정지\")\n",
        "    else:\n",
        "        print(\"이미 정지 상태\")\n",
        "else:\n",
        "    print(\"보행자 없음 → 계속 주행\")\n"
      ],
      "metadata": {
        "colab": {
          "base_uri": "https://localhost:8080/"
        },
        "id": "fAJfDhmY3OPy",
        "outputId": "6dcbdfe1-ca50-4d55-dae8-6a1c70816112"
      },
      "execution_count": 9,
      "outputs": [
        {
          "output_type": "stream",
          "name": "stdout",
          "text": [
            "보행자 감지됨 → 차량 정지\n"
          ]
        }
      ]
    }
  ]
}