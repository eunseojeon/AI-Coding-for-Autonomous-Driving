{
  "nbformat": 4,
  "nbformat_minor": 0,
  "metadata": {
    "colab": {
      "provenance": [],
      "authorship_tag": "ABX9TyPaJUDM0WpqA0c5lBJMGlE/",
      "include_colab_link": true
    },
    "kernelspec": {
      "name": "python3",
      "display_name": "Python 3"
    },
    "language_info": {
      "name": "python"
    }
  },
  "cells": [
    {
      "cell_type": "markdown",
      "metadata": {
        "id": "view-in-github",
        "colab_type": "text"
      },
      "source": [
        "<a href=\"https://colab.research.google.com/github/eunseojeon/AI-Coding-for-Autonomous-Driving/blob/main/0626_%ED%8C%8C%EC%9D%B4%EC%8D%AC_list.ipynb\" target=\"_parent\"><img src=\"https://colab.research.google.com/assets/colab-badge.svg\" alt=\"Open In Colab\"/></a>"
      ]
    },
    {
      "cell_type": "markdown",
      "source": [
        "##📖 파이썬 list 공부하기\n"
      ],
      "metadata": {
        "id": "uU_QBqYN1Imo"
      }
    },
    {
      "cell_type": "markdown",
      "source": [
        "✅ 목록 만들기"
      ],
      "metadata": {
        "id": "9uJ2yiHd1iMQ"
      }
    },
    {
      "cell_type": "code",
      "source": [
        "thislist = [\"apple\", \"banana\", \"cherry\"]\n",
        "print(thislist)"
      ],
      "metadata": {
        "colab": {
          "base_uri": "https://localhost:8080/"
        },
        "id": "6j52_Qzk1f0v",
        "outputId": "fb9db483-803a-4ac5-a03c-a3ee5c8fcb30"
      },
      "execution_count": 1,
      "outputs": [
        {
          "output_type": "stream",
          "name": "stdout",
          "text": [
            "['apple', 'banana', 'cherry']\n"
          ]
        }
      ]
    },
    {
      "cell_type": "markdown",
      "source": [
        "✅ 중복값 허용"
      ],
      "metadata": {
        "id": "Y3ijDFdt1obM"
      }
    },
    {
      "cell_type": "code",
      "source": [
        "thislist = [\"apple\", \"banana\", \"cherry\", \"apple\", \"cherry\"]\n",
        "print(thislist)"
      ],
      "metadata": {
        "colab": {
          "base_uri": "https://localhost:8080/"
        },
        "id": "VbfqCqff1tIQ",
        "outputId": "8ec55e47-6e42-4d48-f955-cf33be49f286"
      },
      "execution_count": 2,
      "outputs": [
        {
          "output_type": "stream",
          "name": "stdout",
          "text": [
            "['apple', 'banana', 'cherry', 'apple', 'cherry']\n"
          ]
        }
      ]
    },
    {
      "cell_type": "markdown",
      "source": [
        "✅ 목록에 있는 항목의 개수 출력"
      ],
      "metadata": {
        "id": "pCnmruXc1wN1"
      }
    },
    {
      "cell_type": "code",
      "source": [
        "thislist = [\"apple\", \"banana\", \"cherry\"]\n",
        "print(len(thislist))"
      ],
      "metadata": {
        "colab": {
          "base_uri": "https://localhost:8080/"
        },
        "id": "U2rYxq5c1yoo",
        "outputId": "b6970d59-cddb-4e7f-f470-f9e7fc1b81f0"
      },
      "execution_count": 3,
      "outputs": [
        {
          "output_type": "stream",
          "name": "stdout",
          "text": [
            "3\n"
          ]
        }
      ]
    },
    {
      "cell_type": "markdown",
      "source": [
        "✅ 문자열, 정수 및 부울 데이터 유형"
      ],
      "metadata": {
        "id": "iP8xwQJT14Tq"
      }
    },
    {
      "cell_type": "code",
      "source": [
        "list1 = [\"apple\", \"banana\", \"cherry\"]\n",
        "list2 = [1, 5, 7, 9, 3]\n",
        "list3 = [True, False, False]\n",
        "\n",
        "for fruit in list1:\n",
        "    print(\"과일:\", fruit)"
      ],
      "metadata": {
        "colab": {
          "base_uri": "https://localhost:8080/"
        },
        "id": "c9YGgp2b10_c",
        "outputId": "9bf508a2-aa80-4b5b-ab73-0118c7ba7d2c"
      },
      "execution_count": 4,
      "outputs": [
        {
          "output_type": "stream",
          "name": "stdout",
          "text": [
            "과일: apple\n",
            "과일: banana\n",
            "과일: cherry\n"
          ]
        }
      ]
    },
    {
      "cell_type": "markdown",
      "source": [
        "✅ 목록에는 다양한 데이터 유형이 포함 가능"
      ],
      "metadata": {
        "id": "P2jfAbx119LS"
      }
    },
    {
      "cell_type": "code",
      "source": [
        "list1 = [\"abc\", 34, True, 40, \"male\"]\n",
        "\n",
        "for item in list1:\n",
        "    print(f\"값: {item}, 타입: {type(item)}\")"
      ],
      "metadata": {
        "colab": {
          "base_uri": "https://localhost:8080/"
        },
        "id": "tSpinz3L2ArN",
        "outputId": "d1c45b9e-fe2e-4fcb-8c5b-fd285c53c34a"
      },
      "execution_count": 5,
      "outputs": [
        {
          "output_type": "stream",
          "name": "stdout",
          "text": [
            "값: abc, 타입: <class 'str'>\n",
            "값: 34, 타입: <class 'int'>\n",
            "값: True, 타입: <class 'bool'>\n",
            "값: 40, 타입: <class 'int'>\n",
            "값: male, 타입: <class 'str'>\n"
          ]
        }
      ]
    },
    {
      "cell_type": "markdown",
      "source": [
        "✅ 목록의 데이터 유형()"
      ],
      "metadata": {
        "id": "ptsPXZgM2Ikr"
      }
    },
    {
      "cell_type": "code",
      "source": [
        "mylist = [\"apple\", \"banana\", \"cherry\"]\n",
        "print(type(mylist)) #변수 mylist의 자료형(type)을 출력"
      ],
      "metadata": {
        "colab": {
          "base_uri": "https://localhost:8080/"
        },
        "id": "bi1jsGx02EjM",
        "outputId": "e77cd126-8a1e-4f68-cae7-3160da4e6755"
      },
      "execution_count": 6,
      "outputs": [
        {
          "output_type": "stream",
          "name": "stdout",
          "text": [
            "<class 'list'>\n"
          ]
        }
      ]
    },
    {
      "cell_type": "markdown",
      "source": [
        "✅ 리스트 생성자"
      ],
      "metadata": {
        "id": "JuubCO-72Mr1"
      }
    },
    {
      "cell_type": "code",
      "source": [
        "thislist = list((\"apple\", \"banana\", \"cherry\")) #이중괄호 중 하나는 list()함수, 하나는 튜플을 의미\n",
        "print(thislist)"
      ],
      "metadata": {
        "colab": {
          "base_uri": "https://localhost:8080/"
        },
        "id": "8YG9WrxE2L9q",
        "outputId": "c6f840dc-7d46-4ffc-841a-2db174baf995"
      },
      "execution_count": 7,
      "outputs": [
        {
          "output_type": "stream",
          "name": "stdout",
          "text": [
            "['apple', 'banana', 'cherry']\n"
          ]
        }
      ]
    },
    {
      "cell_type": "markdown",
      "source": [
        "- 즉, (\"apple\", \"banana\", \"cherry\")는 튜플이고, list()는 그걸 리스트로 변환해줌\n",
        "---"
      ],
      "metadata": {
        "id": "SkwSzD7Z26Uv"
      }
    },
    {
      "cell_type": "markdown",
      "source": [
        "## 🚗 list 자율주행 코드"
      ],
      "metadata": {
        "id": "K-JY8CpE2e44"
      }
    },
    {
      "cell_type": "markdown",
      "source": [
        "🛞 1. 감지된 교통표지판 목록"
      ],
      "metadata": {
        "id": "nefrQCy03pPI"
      }
    },
    {
      "cell_type": "code",
      "source": [
        "traffic_signs = [\"정지\", \"속도제한 60\", \"양보\"]\n",
        "print(\"감지된 교통 표지판:\", traffic_signs)"
      ],
      "metadata": {
        "colab": {
          "base_uri": "https://localhost:8080/"
        },
        "id": "IrdWBzpQ3cMK",
        "outputId": "1e3fb95f-4cb6-4429-b74e-8e0b2f8d8103"
      },
      "execution_count": 8,
      "outputs": [
        {
          "output_type": "stream",
          "name": "stdout",
          "text": [
            "감지된 교통 표지판: ['정지', '속도제한 60', '양보']\n"
          ]
        }
      ]
    },
    {
      "cell_type": "markdown",
      "source": [
        "🛞 2. 자율주행차가 지나온 경로 기록"
      ],
      "metadata": {
        "id": "bKIRbKem3vy3"
      }
    },
    {
      "cell_type": "code",
      "source": [
        "path_history = [\"지점 A\", \"지점 B\", \"지점 C\"]\n",
        "print(\"지나온 경로:\", path_history)"
      ],
      "metadata": {
        "colab": {
          "base_uri": "https://localhost:8080/"
        },
        "id": "W8_rYpbS3vMr",
        "outputId": "1a033ddb-eea9-4085-daca-6e591f897173"
      },
      "execution_count": 9,
      "outputs": [
        {
          "output_type": "stream",
          "name": "stdout",
          "text": [
            "지나온 경로: ['지점 A', '지점 B', '지점 C']\n"
          ]
        }
      ]
    },
    {
      "cell_type": "markdown",
      "source": [
        "🛞 3. 주변 차량 번호판 인식"
      ],
      "metadata": {
        "id": "VqroUtGD38TC"
      }
    },
    {
      "cell_type": "code",
      "source": [
        "license_plates = [\"12가 3456\", \"34나 7890\", \"77다 1234\"]\n",
        "print(\"주변 차량 번호판:\", license_plates)"
      ],
      "metadata": {
        "colab": {
          "base_uri": "https://localhost:8080/"
        },
        "id": "L2SsASHV3z5l",
        "outputId": "a9716ed3-767b-4736-d592-bdeaa123abb0"
      },
      "execution_count": 10,
      "outputs": [
        {
          "output_type": "stream",
          "name": "stdout",
          "text": [
            "주변 차량 번호판: ['12가 3456', '34나 7890', '77다 1234']\n"
          ]
        }
      ]
    },
    {
      "cell_type": "markdown",
      "source": [
        "🛞 4. 장애물 거리 리스트"
      ],
      "metadata": {
        "id": "oH8dEpXx4NuP"
      }
    },
    {
      "cell_type": "code",
      "source": [
        "obstacle_distances = [12.5, 7.8, 3.2]  # 단위: 미터\n",
        "print(\"장애물까지의 거리:\", obstacle_distances)"
      ],
      "metadata": {
        "id": "Kvsq8emI4BzM",
        "colab": {
          "base_uri": "https://localhost:8080/"
        },
        "outputId": "cc7621af-115a-47a8-ff72-7915ce2f6167"
      },
      "execution_count": 11,
      "outputs": [
        {
          "output_type": "stream",
          "name": "stdout",
          "text": [
            "장애물까지의 거리: [12.5, 7.8, 3.2]\n"
          ]
        }
      ]
    },
    {
      "cell_type": "markdown",
      "source": [
        "🛞 5. 자율주행 모드 기록 리스트"
      ],
      "metadata": {
        "id": "ExptDCEP4Lxi"
      }
    },
    {
      "cell_type": "code",
      "source": [
        "driving_modes = [\"주행\", \"차선 변경\", \"정지\", \"주행\"]\n",
        "print(\"자율주행 모드 기록:\", driving_modes)"
      ],
      "metadata": {
        "id": "t2XaMsWQ4EnP",
        "colab": {
          "base_uri": "https://localhost:8080/"
        },
        "outputId": "e35e87fa-1fed-43ba-ab16-ce5b55f278a8"
      },
      "execution_count": 12,
      "outputs": [
        {
          "output_type": "stream",
          "name": "stdout",
          "text": [
            "자율주행 모드 기록: ['주행', '차선 변경', '정지', '주행']\n"
          ]
        }
      ]
    },
    {
      "cell_type": "markdown",
      "source": [
        "---\n",
        "✅ 1. 차량이 움직이는 시뮬레이션 (기본 이동)"
      ],
      "metadata": {
        "id": "Q8qYPFw85Sze"
      }
    },
    {
      "cell_type": "code",
      "source": [
        "# 일정 시간 동안 위치를 업데이트하는 코드 (가속도는 고려하지 않고 단순 이동)\n",
        "import math\n",
        "\n",
        "dt = 1.0  # 시간 간격 (초)\n",
        "x = 0.0   # 초기 x 좌표\n",
        "y = 0.0   # 초기 y 좌표\n",
        "velocity = 5.0 # 속도 (단위: m/s)\n",
        "heading = math.pi / 4 # 이동 방향 (라디안, 45도)\n",
        "\n",
        "x += velocity * dt * math.cos(heading)\n",
        "y += velocity * dt * math.sin(heading)\n",
        "\n",
        "print(f\"차량 위치: ({x:.2f}, {y:.2f})\")"
      ],
      "metadata": {
        "colab": {
          "base_uri": "https://localhost:8080/"
        },
        "id": "1lP-jRXy5H3j",
        "outputId": "77d382d0-96b0-4a67-8ca3-3e065dbc5e28"
      },
      "execution_count": 13,
      "outputs": [
        {
          "output_type": "stream",
          "name": "stdout",
          "text": [
            "차량 위치: (3.54, 3.54)\n"
          ]
        }
      ]
    },
    {
      "cell_type": "markdown",
      "source": [
        "---\n",
        "✅ 2. 속도 제어 시뮬레이션 (목표 속도를 향한 가속/감속)"
      ],
      "metadata": {
        "id": "YTkRFADG59VO"
      }
    },
    {
      "cell_type": "code",
      "source": [
        "# 단순한 P제어 (비례제어)\n",
        "Kp = 0.5  # 비례 상수\n",
        "dt = 1.0  # 시간 간격\n",
        "\n",
        "# Define target_speed and max_speed\n",
        "target_speed = 10.0 #목표로 하는 속도\n",
        "max_speed = 15.0 #차량이 낼 수 있는 최대 속도 제한\n",
        "\n",
        "# 속도 오차 계산\n",
        "speed_error = target_speed - velocity #velocity: 현재 속도\n",
        "\n",
        "# 스로틀 제어 (오차에 비례)\n",
        "throttle = Kp * speed_error #속도오차에 비례상수를 곱해서 스로틀 크기 정함\n",
        "throttle = max(0.0, min(throttle, 1.0))  # 값을 0~1 사이로 제한\n",
        "\n",
        "# 속도 업데이트 (간단 모델: 가속도 = 스로틀 * 3)\n",
        "acceleration = throttle * 3.0\n",
        "velocity += acceleration * dt #1초 동안 가속도만큼 속도가 늘어난다는 뜻\n",
        "velocity = min(velocity, max_speed) #속도가 최대 속도(max_speed)를 넘지 않도록 제한함.\n",
        "\n",
        "print(f\"현재 속도: {velocity:.2f} m/s, 스로틀: {throttle:.2f}\")"
      ],
      "metadata": {
        "colab": {
          "base_uri": "https://localhost:8080/"
        },
        "id": "1rqRDID15ihU",
        "outputId": "8ddee3f3-5f70-42f1-81d8-f2dadb08f1e2"
      },
      "execution_count": 14,
      "outputs": [
        {
          "output_type": "stream",
          "name": "stdout",
          "text": [
            "현재 속도: 8.00 m/s, 스로틀: 1.00\n"
          ]
        }
      ]
    },
    {
      "cell_type": "markdown",
      "source": [
        "---\n",
        "✅ 3. 웨이포인트 리스트 생성 및 현재 목표 설정"
      ],
      "metadata": {
        "id": "pFhZtC4G75Z-"
      }
    },
    {
      "cell_type": "code",
      "source": [
        "# 예: 간단한 2D 경로 생성\n",
        "waypoints = [(10, 0), (20, 10), (30, 20)]\n",
        "target_waypoint = waypoints[0]  # 첫 번째 점을 목표로 설정\n",
        "\n",
        "print(\"전체 웨이포인트:\", waypoints)\n",
        "print(\"현재 목표 웨이포인트:\", target_waypoint)"
      ],
      "metadata": {
        "colab": {
          "base_uri": "https://localhost:8080/"
        },
        "id": "E3pB9IYm54Yi",
        "outputId": "792c5ddb-fd27-4cf0-95e0-848c04bb5c95"
      },
      "execution_count": 15,
      "outputs": [
        {
          "output_type": "stream",
          "name": "stdout",
          "text": [
            "전체 웨이포인트: [(10, 0), (20, 10), (30, 20)]\n",
            "현재 목표 웨이포인트: (10, 0)\n"
          ]
        }
      ]
    },
    {
      "cell_type": "markdown",
      "source": [
        "---\n",
        "✅ 4. list만 사용한 간단한 위도, 경도 예제"
      ],
      "metadata": {
        "id": "mZTpnzn98QXD"
      }
    },
    {
      "cell_type": "code",
      "source": [
        "waypoints = [[127.123, 37.456], [127.130, 37.460], [127.140, 37.470]]\n",
        "\n",
        "start_position = waypoints[0]  # 시작점\n",
        "current_lon = start_position[0]\n",
        "current_lat = start_position[1]\n",
        "\n",
        "print(\"출발 위치 (경도, 위도):\", [current_lon, current_lat])"
      ],
      "metadata": {
        "colab": {
          "base_uri": "https://localhost:8080/"
        },
        "id": "iHx__z5b79rJ",
        "outputId": "805f7da6-490b-4c13-c5e9-38e9e1ad912b"
      },
      "execution_count": 16,
      "outputs": [
        {
          "output_type": "stream",
          "name": "stdout",
          "text": [
            "출발 위치 (경도, 위도): [127.123, 37.456]\n"
          ]
        }
      ]
    },
    {
      "cell_type": "markdown",
      "source": [
        "---\n",
        "✅ 5. 조건문과 함수를 포함한 예제"
      ],
      "metadata": {
        "id": "bdMyFlVa8deF"
      }
    },
    {
      "cell_type": "code",
      "source": [
        "waypoints = [[127.123, 37.456], [127.130, 37.460], [127.140, 37.470]]\n",
        "\n",
        "def is_near_goal(current_pos, goal_pos, threshold=0.005):\n",
        "    \"\"\"\n",
        "    현재 위치(current_pos)와 목표 위치(goal_pos)의 거리(경도, 위도 차이)를 계산해서,\n",
        "    두 점이 threshold(기본 0.005도) 이내면 True, 아니면 False 반환\n",
        "    \"\"\"\n",
        "    lon_diff = abs(current_pos[0] - goal_pos[0]) #현재 위치와 목표 위치의 경도 차이(lon_diff) 와 위도 차이(lat_diff) 를 각각 계산\n",
        "    lat_diff = abs(current_pos[1] - goal_pos[1]) #abs() 함수는 절댓값, 즉 차이의 부호를 없애고 '얼마나 떨어져 있는지' 크기만 계산해 줌.\n",
        "    if lon_diff < threshold and lat_diff < threshold:\n",
        "        return True\n",
        "    else:\n",
        "        return False\n",
        "\n",
        "current_pos = waypoints[0]  # 출발 위치\n",
        "goal_pos = waypoints[1]     # 다음 목표 위치\n",
        "\n",
        "if is_near_goal(current_pos, goal_pos): #is_near_goal 함수를 호출해서 현재 위치와 목표 위치가 가까운지 검사.\n",
        "    print(\"목표 위치에 거의 도착했어요!\")\n",
        "else:\n",
        "    print(\"아직 목표 위치까지 거리가 남았어요.\")"
      ],
      "metadata": {
        "colab": {
          "base_uri": "https://localhost:8080/"
        },
        "id": "U-Pf8U5a8YJs",
        "outputId": "62b5855e-0caf-41d2-9235-fcaae5eb3143"
      },
      "execution_count": 17,
      "outputs": [
        {
          "output_type": "stream",
          "name": "stdout",
          "text": [
            "아직 목표 위치까지 거리가 남았어요.\n"
          ]
        }
      ]
    },
    {
      "cell_type": "markdown",
      "source": [
        "- current_pos: 현재 위치 좌표 (예: [경도, 위도])\n",
        "- goal_pos: 목표 위치 좌표 (예: [경도, 위도])\n",
        "- threshold: 두 점이 가까운지를 판단할 기준 거리 (기본값 0.005)\n",
        "- 만약 경도 차이와 위도 차이가 둘 다 기준 거리(threshold)보다 작으면, 두 점이 충분히 가깝다고 판단해서 True를 반환 (즉, \"가깝다\"는 의미),\n",
        "아니면 False 반환 (아직 멀리 있음).\n",
        "---"
      ],
      "metadata": {
        "id": "ho2lwjte9Wta"
      }
    }
  ]
}