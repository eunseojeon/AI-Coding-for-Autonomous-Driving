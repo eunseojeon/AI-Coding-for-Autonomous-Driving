{
  "nbformat": 4,
  "nbformat_minor": 0,
  "metadata": {
    "colab": {
      "provenance": [],
      "authorship_tag": "ABX9TyPY82X5i+KESUQ6IRHN4o7+",
      "include_colab_link": true
    },
    "kernelspec": {
      "name": "python3",
      "display_name": "Python 3"
    },
    "language_info": {
      "name": "python"
    }
  },
  "cells": [
    {
      "cell_type": "markdown",
      "metadata": {
        "id": "view-in-github",
        "colab_type": "text"
      },
      "source": [
        "<a href=\"https://colab.research.google.com/github/eunseojeon/AI-Coding-for-Autonomous-Driving/blob/main/0625_%ED%8C%8C%EC%9D%B4%EC%8D%AC_for%EB%AC%B8.ipynb\" target=\"_parent\"><img src=\"https://colab.research.google.com/assets/colab-badge.svg\" alt=\"Open In Colab\"/></a>"
      ]
    },
    {
      "cell_type": "markdown",
      "source": [
        "## for문 공부\n",
        "- 파이썬의 for문은 리스트, 튜플, 문자열 등 반복 가능한 객체의 요소를 하나씩 꺼내어 코드를 반복 실행하는 구문\n",
        "- 쉽게 말해, \"for 변수 in 반복가능객체:\" 형태로 여러 값을 순서대로 처리할 때 사용"
      ],
      "metadata": {
        "id": "vITIu02N4BEl"
      }
    },
    {
      "cell_type": "code",
      "execution_count": null,
      "metadata": {
        "colab": {
          "base_uri": "https://localhost:8080/"
        },
        "id": "jvQz0RQm3h5x",
        "outputId": "45d6ae5f-cc51-46fb-8e87-34ca1315bbf2"
      },
      "outputs": [
        {
          "output_type": "stream",
          "name": "stdout",
          "text": [
            "apple\n",
            "banana\n",
            "cherry\n"
          ]
        }
      ],
      "source": [
        "fruits = [\"apple\", \"banana\", \"cherry\"]\n",
        "for x in fruits:\n",
        "  print(x)"
      ]
    },
    {
      "cell_type": "markdown",
      "source": [
        "과일 목록에 있는 각 과일을 하나씩 꺼내서 출력하는 반복문"
      ],
      "metadata": {
        "id": "Ozytw2uD4zrJ"
      }
    },
    {
      "cell_type": "code",
      "source": [
        "for x in \"banana\":\n",
        "  print(x)"
      ],
      "metadata": {
        "colab": {
          "base_uri": "https://localhost:8080/"
        },
        "id": "mwfg-m2I45B0",
        "outputId": "2245461c-e7b6-4e66-e686-0f6a673d27cd"
      },
      "execution_count": null,
      "outputs": [
        {
          "output_type": "stream",
          "name": "stdout",
          "text": [
            "b\n",
            "a\n",
            "n\n",
            "a\n",
            "n\n",
            "a\n"
          ]
        }
      ]
    },
    {
      "cell_type": "markdown",
      "source": [
        "banana의 글자 하나하나를 차례대로 꺼내서 출력하는 반복문"
      ],
      "metadata": {
        "id": "uD7tfUTy5Aij"
      }
    },
    {
      "cell_type": "code",
      "source": [
        "fruits = [\"apple\", \"banana\", \"cherry\"]\n",
        "for x in fruits:\n",
        "  print(x)\n",
        "  if x == \"banana\":\n",
        "    break"
      ],
      "metadata": {
        "colab": {
          "base_uri": "https://localhost:8080/"
        },
        "id": "LZptf9T85GTh",
        "outputId": "a522bff7-b1b7-4b79-ecb6-97602a3d313c"
      },
      "execution_count": null,
      "outputs": [
        {
          "output_type": "stream",
          "name": "stdout",
          "text": [
            "apple\n",
            "banana\n"
          ]
        }
      ]
    },
    {
      "cell_type": "markdown",
      "source": [
        "break 문을 사용하면 모든 항목을 반복하기 전에 루프를 중지할 수 있음"
      ],
      "metadata": {
        "id": "7ZuN-tvy5Xtt"
      }
    },
    {
      "cell_type": "code",
      "source": [
        "fruits = [\"apple\", \"banana\", \"cherry\"]\n",
        "for x in fruits:\n",
        "  if x == \"banana\":\n",
        "    continue\n",
        "  print(x)"
      ],
      "metadata": {
        "colab": {
          "base_uri": "https://localhost:8080/"
        },
        "id": "OIoAkyTx5bb9",
        "outputId": "d19c0692-3d8e-4717-99c7-bb487f50073f"
      },
      "execution_count": null,
      "outputs": [
        {
          "output_type": "stream",
          "name": "stdout",
          "text": [
            "apple\n",
            "cherry\n"
          ]
        }
      ]
    },
    {
      "cell_type": "markdown",
      "source": [
        "continue 문을 사용하면 루프의 현재 반복을 중지하고 다음 반복을 계속할 수 있음"
      ],
      "metadata": {
        "id": "WHqVqjjq5jnY"
      }
    },
    {
      "cell_type": "code",
      "source": [
        "for x in range(6):\n",
        "  print(x)"
      ],
      "metadata": {
        "colab": {
          "base_uri": "https://localhost:8080/"
        },
        "id": "6dUsQc9Q5lKq",
        "outputId": "1588d35c-a534-46a8-ca48-6d48c1cd9ffb"
      },
      "execution_count": null,
      "outputs": [
        {
          "output_type": "stream",
          "name": "stdout",
          "text": [
            "0\n",
            "1\n",
            "2\n",
            "3\n",
            "4\n",
            "5\n"
          ]
        }
      ]
    },
    {
      "cell_type": "markdown",
      "source": [
        "ange() 함수는 기본적으로 0부터 시작하여 1씩 증가(기본값)하고 지정된 숫자에서 끝나는 숫자 시퀀스를 반환"
      ],
      "metadata": {
        "id": "xYooPvjS5p8F"
      }
    },
    {
      "cell_type": "code",
      "source": [
        "for x in range(2, 6):\n",
        "  print(x)"
      ],
      "metadata": {
        "colab": {
          "base_uri": "https://localhost:8080/"
        },
        "id": "psUgrjER5sm8",
        "outputId": "3fae4237-f97c-4331-af6e-24f0619382d3"
      },
      "execution_count": null,
      "outputs": [
        {
          "output_type": "stream",
          "name": "stdout",
          "text": [
            "2\n",
            "3\n",
            "4\n",
            "5\n"
          ]
        }
      ]
    },
    {
      "cell_type": "markdown",
      "source": [
        "ange () 함수는 기본적으로 시작 값으로 0을 사용하지만 매개변수를 추가하여 시작 값을 지정할 수 있습니다. range(2, 6) . 이는 2에서 6까지의 값(6은 제외)을 의미합니다"
      ],
      "metadata": {
        "id": "zTz5wFAL5zEn"
      }
    },
    {
      "cell_type": "code",
      "source": [
        "for x in range(2, 30, 3):\n",
        "  print(x)"
      ],
      "metadata": {
        "colab": {
          "base_uri": "https://localhost:8080/"
        },
        "id": "RDW8O1yQ51Au",
        "outputId": "256ebc4f-3808-4a00-9e7b-f9605dea3b0a"
      },
      "execution_count": null,
      "outputs": [
        {
          "output_type": "stream",
          "name": "stdout",
          "text": [
            "2\n",
            "5\n",
            "8\n",
            "11\n",
            "14\n",
            "17\n",
            "20\n",
            "23\n",
            "26\n",
            "29\n"
          ]
        }
      ]
    },
    {
      "cell_type": "markdown",
      "source": [
        "시퀀스를 3씩 증가시킵니다(기본값은 1):"
      ],
      "metadata": {
        "id": "xpyBfM8n56tz"
      }
    },
    {
      "cell_type": "code",
      "source": [
        "for x in range(6):\n",
        "  print(x)\n",
        "else:\n",
        "  print(\"Finally finished!\")"
      ],
      "metadata": {
        "colab": {
          "base_uri": "https://localhost:8080/"
        },
        "id": "s06I9qps6AWN",
        "outputId": "9f9dccba-2aa7-4f5a-ced1-5102cbf1392d"
      },
      "execution_count": null,
      "outputs": [
        {
          "output_type": "stream",
          "name": "stdout",
          "text": [
            "0\n",
            "1\n",
            "2\n",
            "3\n",
            "4\n",
            "5\n",
            "Finally finished!\n"
          ]
        }
      ]
    },
    {
      "cell_type": "markdown",
      "source": [
        "0부터 5까지의 모든 숫자를 출력하고, 루프가 끝나면 메시지를 출력합니다."
      ],
      "metadata": {
        "id": "IqSNrC4i6Clw"
      }
    },
    {
      "cell_type": "code",
      "source": [
        "for x in range(6):\n",
        "  if x == 3: break\n",
        "  print(x)\n",
        "else:\n",
        "  print(\"Finally finished!\")"
      ],
      "metadata": {
        "colab": {
          "base_uri": "https://localhost:8080/"
        },
        "id": "B2MKwWOo6DAn",
        "outputId": "9fc3e430-a5d2-4ad9-bc20-1f729b8d44c9"
      },
      "execution_count": null,
      "outputs": [
        {
          "output_type": "stream",
          "name": "stdout",
          "text": [
            "0\n",
            "1\n",
            "2\n"
          ]
        }
      ]
    },
    {
      "cell_type": "markdown",
      "source": [
        "3이 되면 루프를 끊고 \"Finally finished!\" 출력"
      ],
      "metadata": {
        "id": "-QybaoQc6HtN"
      }
    },
    {
      "cell_type": "code",
      "source": [
        "adj = [\"red\", \"big\", \"tasty\"]\n",
        "fruits = [\"apple\", \"banana\", \"cherry\"]\n",
        "\n",
        "for x in adj:\n",
        "  for y in fruits:\n",
        "    print(x, y)"
      ],
      "metadata": {
        "colab": {
          "base_uri": "https://localhost:8080/"
        },
        "id": "5vqvGVij6M7s",
        "outputId": "64840bd5-cc0d-4ae7-8c1d-9888ad7a2388"
      },
      "execution_count": null,
      "outputs": [
        {
          "output_type": "stream",
          "name": "stdout",
          "text": [
            "red apple\n",
            "red banana\n",
            "red cherry\n",
            "big apple\n",
            "big banana\n",
            "big cherry\n",
            "tasty apple\n",
            "tasty banana\n",
            "tasty cherry\n"
          ]
        }
      ]
    },
    {
      "cell_type": "markdown",
      "source": [
        "중첩 루프로,\n",
        "각 과일에 대한 형용사를 각각 출력"
      ],
      "metadata": {
        "id": "QIpK3kFs6QlV"
      }
    },
    {
      "cell_type": "code",
      "source": [
        "for x in [0, 1, 2]:\n",
        "  pass"
      ],
      "metadata": {
        "id": "bSCGeevv6V4Q"
      },
      "execution_count": null,
      "outputs": []
    },
    {
      "cell_type": "markdown",
      "source": [
        "for루프는 비어 있을 수 없지만, 어떤 이유로든 for내용이 없는 루프가 있는 경우 pass오류를 방지하기 위해 명령문을 넣음"
      ],
      "metadata": {
        "id": "h-UoMqye6bqY"
      }
    },
    {
      "cell_type": "markdown",
      "source": [
        "## ✅ for문을 활용한 자율주행 예제\n"
      ],
      "metadata": {
        "id": "mcuIvsU36dnQ"
      }
    },
    {
      "cell_type": "markdown",
      "source": [
        "❗️ 1. 차선 감지 결과 여러개 출력"
      ],
      "metadata": {
        "id": "8-8NVrg46uH3"
      }
    },
    {
      "cell_type": "code",
      "source": [
        "results = [True, False, True] #차선 인식 여부 리스트\n",
        "for r in results:             #리스트를 하나씩 r에 담아서 반복\n",
        "    print(\"차선 인식됨\" if r else \"차선 못 찾음\")  #조건 표현식 사용\n"
      ],
      "metadata": {
        "colab": {
          "base_uri": "https://localhost:8080/"
        },
        "id": "VJ3qqEVv6kO-",
        "outputId": "d951654c-b634-490c-8243-7560ed82571a"
      },
      "execution_count": null,
      "outputs": [
        {
          "output_type": "stream",
          "name": "stdout",
          "text": [
            "차선 인식됨\n",
            "차선 못 찾음\n",
            "차선 인식됨\n"
          ]
        }
      ]
    },
    {
      "cell_type": "markdown",
      "source": [
        "❗️ 2. 장애물 거리 판단"
      ],
      "metadata": {
        "id": "nSCSNImF6y0E"
      }
    },
    {
      "cell_type": "code",
      "source": [
        "distances = [5, 12, 35]   #장애물까지의 거리 리스트\n",
        "for d in distances:       #각 거리를 하나씩 꺼내서 판단\n",
        "    if d < 10:\n",
        "        print(\"급제동\")     #10m보다 가까우면 급제동\n",
        "    elif d < 30:\n",
        "        print(\"감속\")       #10~30m 사이는 감속\n",
        "    else:\n",
        "        print(\"유지 주행\")    #그 외엔 계속 주행\n"
      ],
      "metadata": {
        "colab": {
          "base_uri": "https://localhost:8080/"
        },
        "id": "3pMlM8Jd63Gn",
        "outputId": "2c9fea05-90ac-44ef-de3f-97d0ee3fb275"
      },
      "execution_count": null,
      "outputs": [
        {
          "output_type": "stream",
          "name": "stdout",
          "text": [
            "급제동\n",
            "감속\n",
            "유지 주행\n"
          ]
        }
      ]
    },
    {
      "cell_type": "markdown",
      "source": [
        "❗️ 3. 신호등 색 순서대로 반응"
      ],
      "metadata": {
        "id": "dWyyaoZC679S"
      }
    },
    {
      "cell_type": "code",
      "source": [
        "signals = [\"green\", \"yellow\", \"red\"] #신호등 색깔 리스트\n",
        "for s in signals:                    #각 신호(s)를 하나씩 꺼냄\n",
        "    if s == \"green\":\n",
        "        print(\"진행\")\n",
        "    elif s == \"yellow\":\n",
        "        print(\"감속\")\n",
        "    else:\n",
        "        print(\"정지\")\n"
      ],
      "metadata": {
        "colab": {
          "base_uri": "https://localhost:8080/"
        },
        "id": "FH7WIOIX66yK",
        "outputId": "9024dc02-41e5-42bf-baab-9bc57f1daa9f"
      },
      "execution_count": null,
      "outputs": [
        {
          "output_type": "stream",
          "name": "stdout",
          "text": [
            "진행\n",
            "감속\n",
            "정지\n"
          ]
        }
      ]
    },
    {
      "cell_type": "markdown",
      "source": [
        "❗️ 4. 차량 차선 상태 점검"
      ],
      "metadata": {
        "id": "sNLP2qBu6_Yp"
      }
    },
    {
      "cell_type": "code",
      "source": [
        "offsets = [-0.5, 0.0, 0.4]  # 차선 중심에서 벗어난 정도 (왼쪽/중앙/오른쪽)\n",
        "for o in offsets:\n",
        "    if o < -0.3:\n",
        "        print(\"우회전\")     # 왼쪽으로 너무 치우침 → 우회전해서 복귀\n",
        "    elif o > 0.3:\n",
        "        print(\"좌회전\")     # 오른쪽으로 너무 치우침 → 좌회전해서 복귀\n",
        "    else:\n",
        "        print(\"직진\")       # 중앙이면 핸들 그대로"
      ],
      "metadata": {
        "colab": {
          "base_uri": "https://localhost:8080/"
        },
        "id": "Nq_sPuyC7C0R",
        "outputId": "83c85bc3-425f-44b0-a978-65d669249ff7"
      },
      "execution_count": null,
      "outputs": [
        {
          "output_type": "stream",
          "name": "stdout",
          "text": [
            "우회전\n",
            "직진\n",
            "좌회전\n"
          ]
        }
      ]
    },
    {
      "cell_type": "markdown",
      "source": [
        "❗️ 5. 앞차 거리 따라 속도 조절"
      ],
      "metadata": {
        "id": "RdTxcNCV7GQR"
      }
    },
    {
      "cell_type": "code",
      "source": [
        "front = [3, 10, 20]  #앞차와의 거리를 숫자로 표현\n",
        "for f in front:\n",
        "    print(\"급제동\" if f < 5 else \"감속\" if f < 15 else \"정상 속도\") #한 줄에 조건 3개를 넣은 중첩 조건 표현식\n"
      ],
      "metadata": {
        "colab": {
          "base_uri": "https://localhost:8080/"
        },
        "id": "49jHmOIJ7Iyv",
        "outputId": "e001b215-aa52-4cc5-f704-4aed7f7ba446"
      },
      "execution_count": null,
      "outputs": [
        {
          "output_type": "stream",
          "name": "stdout",
          "text": [
            "급제동\n",
            "감속\n",
            "정상 속도\n"
          ]
        }
      ]
    },
    {
      "cell_type": "markdown",
      "source": [
        "##✅ while문을 이용한 자율주행 예제"
      ],
      "metadata": {
        "id": "mEVJAnhq9huW"
      }
    },
    {
      "cell_type": "markdown",
      "source": [
        "🚗 1. 전방 거리 줄어들 때까지 반복 감속"
      ],
      "metadata": {
        "id": "Ll6kxC9S9qnJ"
      }
    },
    {
      "cell_type": "code",
      "source": [
        "distance = 50  # 초기 전방 거리\n",
        "\n",
        "while distance > 30:\n",
        "    print(\"감속 중... (거리:\", distance, \"m)\")\n",
        "    distance -= 5  # 점점 가까워짐\n",
        "\n",
        "print(\"거리 충분히 가까움 → 유지 주행\")\n"
      ],
      "metadata": {
        "colab": {
          "base_uri": "https://localhost:8080/"
        },
        "id": "cdALm5bu9wPo",
        "outputId": "a98970b5-a46a-4e92-f2b5-66e0981ca58c"
      },
      "execution_count": null,
      "outputs": [
        {
          "output_type": "stream",
          "name": "stdout",
          "text": [
            "감속 중... (거리: 50 m)\n",
            "감속 중... (거리: 45 m)\n",
            "감속 중... (거리: 40 m)\n",
            "감속 중... (거리: 35 m)\n",
            "거리 충분히 가까움 → 유지 주행\n"
          ]
        }
      ]
    },
    {
      "cell_type": "markdown",
      "source": [
        "🚗 2. 차선이 인식될 때까지 기다리기"
      ],
      "metadata": {
        "id": "XxYhwevY90uK"
      }
    },
    {
      "cell_type": "code",
      "source": [
        "lane_detected = False\n",
        "tries = 0\n",
        "\n",
        "while not lane_detected and tries < 5:  # 5번까지만 시도\n",
        "    print(\"차선 인식 시도 중...\")\n",
        "    tries += 1\n",
        "    if tries == 3:  # 3번째에 인식됐다고 가정\n",
        "        lane_detected = True\n",
        "\n",
        "print(\"차선 인식 성공!\" if lane_detected else \"차선 인식 실패\")\n"
      ],
      "metadata": {
        "colab": {
          "base_uri": "https://localhost:8080/"
        },
        "id": "1H9tvGT890ST",
        "outputId": "fe421cfd-f9b5-4b59-9999-40ecee26f766"
      },
      "execution_count": null,
      "outputs": [
        {
          "output_type": "stream",
          "name": "stdout",
          "text": [
            "차선 인식 시도 중...\n",
            "차선 인식 시도 중...\n",
            "차선 인식 시도 중...\n",
            "차선 인식 성공!\n"
          ]
        }
      ]
    },
    {
      "cell_type": "markdown",
      "source": [
        "🚗 3. 신호등이 초록불이 될 때까지 정지"
      ],
      "metadata": {
        "id": "NQlnQXzL9_NS"
      }
    },
    {
      "cell_type": "code",
      "source": [
        "signal = \"red\"\n",
        "wait = 0\n",
        "\n",
        "while signal != \"green\":\n",
        "    print(\"신호 대기 중... 현재:\", signal)\n",
        "    wait += 1\n",
        "    if wait == 3:\n",
        "        signal = \"green\"  # 3초 후 초록불 됐다고 가정\n",
        "\n",
        "print(\"초록불! 출발!\")\n"
      ],
      "metadata": {
        "colab": {
          "base_uri": "https://localhost:8080/"
        },
        "id": "LLwWSI1D99g-",
        "outputId": "5565a398-4a11-4510-fdb4-0f3783d2859c"
      },
      "execution_count": null,
      "outputs": [
        {
          "output_type": "stream",
          "name": "stdout",
          "text": [
            "신호 대기 중... 현재: red\n",
            "신호 대기 중... 현재: red\n",
            "신호 대기 중... 현재: red\n",
            "초록불! 출발!\n"
          ]
        }
      ]
    },
    {
      "cell_type": "markdown",
      "source": [
        "🚗 4. 차량이 중앙으로 복귀할 때까지 조정"
      ],
      "metadata": {
        "id": "bGEwzF5y-ArX"
      }
    },
    {
      "cell_type": "code",
      "source": [
        "offset = -0.5  # 왼쪽으로 치우쳐 있음\n",
        "\n",
        "while offset < -0.1:\n",
        "    print(\"우회전 조향... (offset:\", offset, \")\")\n",
        "    offset += 0.1  # 점점 중앙으로 이동\n",
        "\n",
        "print(\"차선 중앙 복귀 완료\")\n"
      ],
      "metadata": {
        "colab": {
          "base_uri": "https://localhost:8080/"
        },
        "id": "ZFo8A0op-Eac",
        "outputId": "9265f206-c3fd-4c3f-d3f9-afe924a13f13"
      },
      "execution_count": null,
      "outputs": [
        {
          "output_type": "stream",
          "name": "stdout",
          "text": [
            "우회전 조향... (offset: -0.5 )\n",
            "우회전 조향... (offset: -0.4 )\n",
            "우회전 조향... (offset: -0.30000000000000004 )\n",
            "우회전 조향... (offset: -0.20000000000000004 )\n",
            "우회전 조향... (offset: -0.10000000000000003 )\n",
            "차선 중앙 복귀 완료\n"
          ]
        }
      ]
    },
    {
      "cell_type": "markdown",
      "source": [
        "🚗 5. 배터리 부족-> 충전까지 대기 후 주행"
      ],
      "metadata": {
        "id": "XCBXSBrc-HpJ"
      }
    },
    {
      "cell_type": "code",
      "source": [
        "battery = 10  # 배터리 10%부터 시작\n",
        "\n",
        "while battery < 20:\n",
        "    print(\"배터리 부족 → 충전 중... (\", battery, \"% )\")\n",
        "    battery += 2  # 충전됨\n",
        "\n",
        "print(\"충전 완료 → 주행 가능\")\n"
      ],
      "metadata": {
        "colab": {
          "base_uri": "https://localhost:8080/"
        },
        "id": "uMF-2ZhR-M6m",
        "outputId": "45564317-5874-46bd-a38e-2dce2c6ad40d"
      },
      "execution_count": null,
      "outputs": [
        {
          "output_type": "stream",
          "name": "stdout",
          "text": [
            "배터리 부족 → 충전 중... ( 10 % )\n",
            "배터리 부족 → 충전 중... ( 12 % )\n",
            "배터리 부족 → 충전 중... ( 14 % )\n",
            "배터리 부족 → 충전 중... ( 16 % )\n",
            "배터리 부족 → 충전 중... ( 18 % )\n",
            "충전 완료 → 주행 가능\n"
          ]
        }
      ]
    }
  ]
}