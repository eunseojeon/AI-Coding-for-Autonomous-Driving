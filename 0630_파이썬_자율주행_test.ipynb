{
  "nbformat": 4,
  "nbformat_minor": 0,
  "metadata": {
    "colab": {
      "provenance": [],
      "authorship_tag": "ABX9TyMqriEM/zfSXGWfaWo/3cS6",
      "include_colab_link": true
    },
    "kernelspec": {
      "name": "python3",
      "display_name": "Python 3"
    },
    "language_info": {
      "name": "python"
    }
  },
  "cells": [
    {
      "cell_type": "markdown",
      "metadata": {
        "id": "view-in-github",
        "colab_type": "text"
      },
      "source": [
        "<a href=\"https://colab.research.google.com/github/eunseojeon/AI-Coding-for-Autonomous-Driving/blob/main/0630_%ED%8C%8C%EC%9D%B4%EC%8D%AC_%EC%9E%90%EC%9C%A8%EC%A3%BC%ED%96%89_test.ipynb\" target=\"_parent\"><img src=\"https://colab.research.google.com/assets/colab-badge.svg\" alt=\"Open In Colab\"/></a>"
      ]
    },
    {
      "cell_type": "markdown",
      "source": [
        "## 🛞 1번"
      ],
      "metadata": {
        "id": "B2NazcUcUVTK"
      }
    },
    {
      "cell_type": "code",
      "source": [
        "# 센서 데이터\n",
        "# 여기서는 각 방향('front', 'left', 'right')을 키로, 거리 값은 값으로 저장한다\n",
        "sensor_data = {\n",
        "    'front': 8.0, #전방 센서 거리 (단위: m)\n",
        "    'left': 15.0, #좌측 센서 거리\n",
        "    'right': 4.0 #우측 센서 거리\n",
        "}\n",
        "\n",
        "# 장애물로 간주할 최소 안전 거리 기준값 (이거보다 가까우면 장애물로 판단한다는 뜻)\n",
        "safe_distance = 10.0\n",
        "\n",
        "# 장애물이 감지된 방향을 저장할 리스트 생성\n",
        "obstacles = []\n",
        "\n",
        "# sensor_data.items()에서 튜플 전체를 item이라는 변수로 받음\n",
        "for item in sensor_data.items():\n",
        "    direction = item[0]   # 튜플의 첫 번째 값: 방향\n",
        "    distance = item[1]    # 튜플의 두 번째 값: 거리\n",
        "\n",
        "    # 거리 값이 안전 거리보다 작으면(가까우면)\n",
        "    if distance < safe_distance:\n",
        "        obstacles.append(direction)  # 해당 방향을 리스트에 추가\n",
        "\n",
        "# 결과 출력\n",
        "print(\"감지된 장애물:\", obstacles)\n"
      ],
      "metadata": {
        "colab": {
          "base_uri": "https://localhost:8080/"
        },
        "id": "lVdRRDXoSEtn",
        "outputId": "22243e47-7715-4774-96fe-fa613aca1148"
      },
      "execution_count": null,
      "outputs": [
        {
          "output_type": "stream",
          "name": "stdout",
          "text": [
            "감지된 장애물: ['front', 'right']\n"
          ]
        }
      ]
    },
    {
      "cell_type": "markdown",
      "source": [
        "- for문 전체 설명\n",
        "- for문이 반복할 때마다\n",
        "1. item에 ('front', 8.0)이 들어감 → direction='front', distance=8.0\n",
        "2. item에 ('left', 15.0)이 들어감 → direction='left', distance=15.0\n",
        "3. item에 ('right', 4.0)이 들어감 → direction='right', distance=4.0\n",
        "---\n",
        "- if distance < safe_distance:\n",
        "1. safe_distance는 \"이 거리보다 가까우면 위험하다\"고 판단하는 기준값입니다.\n",
        "2. 각 방향의 센서 거리(distance)가 기준값보다 작으면\n",
        "→ 그 방향에 장애물이 가까이 있다고 판단합니다.\n",
        "- obstacles.append(direction)\n",
        "1. 장애물이 감지된 방향(direction)을 obstacles 리스트에 추가합니다.\n",
        "2. 예를 들어, 'front'의 값이 8.0이고 safe_distance가 10.0이면,\n",
        "8.0 < 10.0 이므로 'front'를 obstacles에 넣습니다.\n",
        "---"
      ],
      "metadata": {
        "id": "aJfS3w7LUK88"
      }
    },
    {
      "cell_type": "markdown",
      "source": [
        "## ❗️2번"
      ],
      "metadata": {
        "id": "N_c14TePVtSa"
      }
    },
    {
      "cell_type": "code",
      "source": [
        "# 센서 데이터 초기화\n",
        "sensors = {\n",
        "    \"front\": 12.0,\n",
        "    \"left\": 15.0,\n",
        "    \"right\": 8.0\n",
        "}\n",
        "# 안전거리 설정\n",
        "safe_distance = 10.0\n",
        "\n",
        "print(\"===장애물 감지 및 회피 시스템===\")\n",
        "\n",
        "obstacles = []\n",
        "for direction, distance in sensors.items():\n",
        "    if distance < safe_distance:\n",
        "        obstacles.append(direction)\n",
        "\n",
        "print(\"감지된 장애물:\", obstacles)\n",
        "\n",
        "# 행동 결정\n",
        "if len(obstacles) == 0:\n",
        "    action = '직진'\n",
        "elif \"front\" in obstacles:\n",
        "    if \"left\" not in obstacles:\n",
        "        action = '좌회전'\n",
        "    elif \"right\" not in obstacles:\n",
        "        action = '우회전'\n",
        "    else:\n",
        "        action = '정지'\n",
        "else:\n",
        "    # front에 장애물이 없고, left/right에만 있을 때\n",
        "    if \"left\" in obstacles:\n",
        "        action = '우회전'\n",
        "    elif \"right\" in obstacles:\n",
        "        action = '좌회전'\n",
        "    else:\n",
        "        action = '직진'\n",
        "\n",
        "print(\"결정된 행동:\", action)\n"
      ],
      "metadata": {
        "colab": {
          "base_uri": "https://localhost:8080/"
        },
        "id": "wXu7f8pVK_0X",
        "outputId": "75e2dc3e-cf79-467c-a398-fb55ff5da97e"
      },
      "execution_count": 2,
      "outputs": [
        {
          "output_type": "stream",
          "name": "stdout",
          "text": [
            "===장애물 감지 및 회피 시스템===\n",
            "감지된 장애물: ['right']\n",
            "결정된 행동: 좌회전\n"
          ]
        }
      ]
    }
  ]
}